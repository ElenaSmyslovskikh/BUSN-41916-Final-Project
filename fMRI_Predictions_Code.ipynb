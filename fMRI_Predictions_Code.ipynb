{
  "cells": [
    {
      "cell_type": "code",
      "source": [
        "import tensorflow as tf\n",
        "tf.test.gpu_device_name()"
      ],
      "metadata": {
        "colab": {
          "base_uri": "https://localhost:8080/",
          "height": 36
        },
        "id": "p_cdahlYboFG",
        "outputId": "4e3a051d-bb6a-4eb8-e20e-081f6333ea78"
      },
      "execution_count": null,
      "outputs": [
        {
          "output_type": "execute_result",
          "data": {
            "text/plain": [
              "'/device:GPU:0'"
            ],
            "application/vnd.google.colaboratory.intrinsic+json": {
              "type": "string"
            }
          },
          "metadata": {},
          "execution_count": 1
        }
      ]
    },
    {
      "cell_type": "code",
      "execution_count": null,
      "metadata": {
        "id": "PjLNRwPTAl9J"
      },
      "outputs": [],
      "source": [
        "import h5py\n",
        "import random\n",
        "import numpy as np\n",
        "import pandas as pd\n",
        "from PIL import Image\n",
        "import os\n",
        "import tensorflow as tf\n",
        "from sklearn.model_selection import train_test_split\n",
        "from sklearn.metrics import r2_score, mean_absolute_error\n",
        "from sklearn.preprocessing import MinMaxScaler\n",
        "import gc\n",
        "import matplotlib.pyplot as plt\n",
        "from sklearn.metrics import accuracy_score\n",
        "from tensorflow.keras.preprocessing.image import ImageDataGenerator\n",
        "from tensorflow.keras import layers, models\n",
        "from tensorflow.keras.utils import normalize\n",
        "from sklearn.model_selection import KFold\n",
        "random.seed(42)\n",
        "np.random.seed(42)"
      ]
    },
    {
      "cell_type": "code",
      "source": [
        "# Set to True if we want to run the model with normalized images\n",
        "# (smaller dataset)\n",
        "image_normalization = False"
      ],
      "metadata": {
        "id": "v1wKivKwvwA0"
      },
      "execution_count": null,
      "outputs": []
    },
    {
      "cell_type": "code",
      "execution_count": null,
      "metadata": {
        "id": "tX8xgVQer8CC",
        "colab": {
          "base_uri": "https://localhost:8080/"
        },
        "outputId": "10957a40-cd96-4fd6-bb86-6c184f000e35"
      },
      "outputs": [
        {
          "output_type": "stream",
          "name": "stdout",
          "text": [
            "Mounted at /content/drive\n"
          ]
        }
      ],
      "source": [
        "# Connect to Google Drive for files:\n",
        "from google.colab import drive\n",
        "drive.mount('/content/drive')"
      ]
    },
    {
      "cell_type": "markdown",
      "metadata": {
        "id": "weVFwZL_BogI"
      },
      "source": [
        "Put all data into one data frame:"
      ]
    },
    {
      "cell_type": "code",
      "execution_count": null,
      "metadata": {
        "id": "IzvVN5EjBpHO"
      },
      "outputs": [],
      "source": [
        "# def get_participant_data(p_id):\n",
        "#   # Get image ids (change path if needed):\n",
        "#   file_path = f'/content/drive/My Drive/Autumn 2023/BUSN 41916 Project/Data/ROIs/stim_lists/CSI0{p_id}_stim_lists.txt'\n",
        "#   image_ids = np.loadtxt(file_path, dtype=str)\n",
        "#   p_df = pd.DataFrame()\n",
        "#   # Iterate over each trial number and concatenate into p_df:\n",
        "#   for trial_num in ['1', '2', '3', '34', '4', '5']:\n",
        "#     file_path = f'/content/drive/My Drive/Autumn 2023/BUSN 41916 Project/Data/ROIs/CSI{p_id}/h5/CSI{p_id}_ROIs_TR{trial_num}.h5'\n",
        "#     trial_df = pd.DataFrame()\n",
        "#     with h5py.File(file_path, 'r') as f:\n",
        "#       # Get aggregate activation levels for each brain region:\n",
        "#       for key in f.keys():\n",
        "#         trial_df[key] = [image_response.mean() for image_response in f[key]]\n",
        "#     trial_df.insert(0, 'image_id', image_ids)\n",
        "#     trial_df['trial'] = trial_num\n",
        "#     p_df = pd.concat([p_df, trial_df], ignore_index=True)\n",
        "#   return p_df\n",
        "\n",
        "# df = pd.DataFrame()\n",
        "# for p_id in ['1', '2', '3', '4']:\n",
        "#   p_df = get_participant_data(p_id)\n",
        "#   p_df['participant'] = p_id\n",
        "#   df = pd.concat([df, p_df], ignore_index=True)\n",
        "\n",
        "# df.to_csv('/content/drive/My Drive/Autumn 2023/BUSN 41916 Project/Data/participant_responses.csv')\n",
        "\n",
        "df = pd.read_csv('/content/drive/My Drive/BUSN 41916 Project/Data/participant_responses.csv')"
      ]
    },
    {
      "cell_type": "code",
      "source": [
        "# Try to filter out to get one image per row:\n",
        "y_col = ['LHEarlyVis', 'LHLOC', 'LHOPA', 'LHPPA', 'LHRSC', 'RHEarlyVis',\n",
        "         'RHLOC', 'RHOPA', 'RHPPA', 'RHRSC']\n",
        "# df = df.groupby('image_id')[y_col].mean().reset_index()\n",
        "# df = df[(df['trial'] == 1) & (df['participant'] == 1)]"
      ],
      "metadata": {
        "id": "9c0FqW-HNgLF"
      },
      "execution_count": null,
      "outputs": []
    },
    {
      "cell_type": "code",
      "execution_count": null,
      "metadata": {
        "colab": {
          "base_uri": "https://localhost:8080/",
          "height": 262
        },
        "id": "WBPJfuWoeEVT",
        "outputId": "22f376c3-9e36-4b75-e37c-4abb1b2b77f0"
      },
      "outputs": [
        {
          "output_type": "stream",
          "name": "stdout",
          "text": [
            "(113220, 14)\n"
          ]
        },
        {
          "output_type": "execute_result",
          "data": {
            "text/plain": [
              "   Unnamed: 0                         image_id  LHEarlyVis     LHLOC  \\\n",
              "0           0             n01930112_19568.JPEG   -0.005209  0.006331   \n",
              "1           1             n03733281_29214.JPEG    0.001316  0.000388   \n",
              "2           2              n07695742_5848.JPEG   -0.005456 -0.006653   \n",
              "3           3  COCO_train2014_000000420713.jpg   -0.009369 -0.008381   \n",
              "4           4  COCO_train2014_000000488558.jpg   -0.004268  0.000220   \n",
              "\n",
              "      LHOPA     LHPPA     LHRSC  RHEarlyVis     RHLOC     RHOPA     RHPPA  \\\n",
              "0 -0.003487 -0.004120  0.001741   -0.005559  0.006550 -0.000273 -0.006386   \n",
              "1 -0.002388 -0.003867  0.005578   -0.007185 -0.005833 -0.001997 -0.001805   \n",
              "2 -0.001751 -0.004985 -0.008802   -0.006335 -0.004878 -0.001011  0.003150   \n",
              "3 -0.007291 -0.008370 -0.004953   -0.002245 -0.008092 -0.008549 -0.007834   \n",
              "4  0.001111  0.000180  0.012218   -0.002396 -0.000680 -0.000050  0.000656   \n",
              "\n",
              "      RHRSC  trial  participant  \n",
              "0 -0.000070      1            1  \n",
              "1  0.008767      1            1  \n",
              "2  0.001728      1            1  \n",
              "3 -0.006843      1            1  \n",
              "4  0.008190      1            1  "
            ],
            "text/html": [
              "\n",
              "  <div id=\"df-8bbe8b2d-ba3f-4309-85ce-7a64d63e8f4d\" class=\"colab-df-container\">\n",
              "    <div>\n",
              "<style scoped>\n",
              "    .dataframe tbody tr th:only-of-type {\n",
              "        vertical-align: middle;\n",
              "    }\n",
              "\n",
              "    .dataframe tbody tr th {\n",
              "        vertical-align: top;\n",
              "    }\n",
              "\n",
              "    .dataframe thead th {\n",
              "        text-align: right;\n",
              "    }\n",
              "</style>\n",
              "<table border=\"1\" class=\"dataframe\">\n",
              "  <thead>\n",
              "    <tr style=\"text-align: right;\">\n",
              "      <th></th>\n",
              "      <th>Unnamed: 0</th>\n",
              "      <th>image_id</th>\n",
              "      <th>LHEarlyVis</th>\n",
              "      <th>LHLOC</th>\n",
              "      <th>LHOPA</th>\n",
              "      <th>LHPPA</th>\n",
              "      <th>LHRSC</th>\n",
              "      <th>RHEarlyVis</th>\n",
              "      <th>RHLOC</th>\n",
              "      <th>RHOPA</th>\n",
              "      <th>RHPPA</th>\n",
              "      <th>RHRSC</th>\n",
              "      <th>trial</th>\n",
              "      <th>participant</th>\n",
              "    </tr>\n",
              "  </thead>\n",
              "  <tbody>\n",
              "    <tr>\n",
              "      <th>0</th>\n",
              "      <td>0</td>\n",
              "      <td>n01930112_19568.JPEG</td>\n",
              "      <td>-0.005209</td>\n",
              "      <td>0.006331</td>\n",
              "      <td>-0.003487</td>\n",
              "      <td>-0.004120</td>\n",
              "      <td>0.001741</td>\n",
              "      <td>-0.005559</td>\n",
              "      <td>0.006550</td>\n",
              "      <td>-0.000273</td>\n",
              "      <td>-0.006386</td>\n",
              "      <td>-0.000070</td>\n",
              "      <td>1</td>\n",
              "      <td>1</td>\n",
              "    </tr>\n",
              "    <tr>\n",
              "      <th>1</th>\n",
              "      <td>1</td>\n",
              "      <td>n03733281_29214.JPEG</td>\n",
              "      <td>0.001316</td>\n",
              "      <td>0.000388</td>\n",
              "      <td>-0.002388</td>\n",
              "      <td>-0.003867</td>\n",
              "      <td>0.005578</td>\n",
              "      <td>-0.007185</td>\n",
              "      <td>-0.005833</td>\n",
              "      <td>-0.001997</td>\n",
              "      <td>-0.001805</td>\n",
              "      <td>0.008767</td>\n",
              "      <td>1</td>\n",
              "      <td>1</td>\n",
              "    </tr>\n",
              "    <tr>\n",
              "      <th>2</th>\n",
              "      <td>2</td>\n",
              "      <td>n07695742_5848.JPEG</td>\n",
              "      <td>-0.005456</td>\n",
              "      <td>-0.006653</td>\n",
              "      <td>-0.001751</td>\n",
              "      <td>-0.004985</td>\n",
              "      <td>-0.008802</td>\n",
              "      <td>-0.006335</td>\n",
              "      <td>-0.004878</td>\n",
              "      <td>-0.001011</td>\n",
              "      <td>0.003150</td>\n",
              "      <td>0.001728</td>\n",
              "      <td>1</td>\n",
              "      <td>1</td>\n",
              "    </tr>\n",
              "    <tr>\n",
              "      <th>3</th>\n",
              "      <td>3</td>\n",
              "      <td>COCO_train2014_000000420713.jpg</td>\n",
              "      <td>-0.009369</td>\n",
              "      <td>-0.008381</td>\n",
              "      <td>-0.007291</td>\n",
              "      <td>-0.008370</td>\n",
              "      <td>-0.004953</td>\n",
              "      <td>-0.002245</td>\n",
              "      <td>-0.008092</td>\n",
              "      <td>-0.008549</td>\n",
              "      <td>-0.007834</td>\n",
              "      <td>-0.006843</td>\n",
              "      <td>1</td>\n",
              "      <td>1</td>\n",
              "    </tr>\n",
              "    <tr>\n",
              "      <th>4</th>\n",
              "      <td>4</td>\n",
              "      <td>COCO_train2014_000000488558.jpg</td>\n",
              "      <td>-0.004268</td>\n",
              "      <td>0.000220</td>\n",
              "      <td>0.001111</td>\n",
              "      <td>0.000180</td>\n",
              "      <td>0.012218</td>\n",
              "      <td>-0.002396</td>\n",
              "      <td>-0.000680</td>\n",
              "      <td>-0.000050</td>\n",
              "      <td>0.000656</td>\n",
              "      <td>0.008190</td>\n",
              "      <td>1</td>\n",
              "      <td>1</td>\n",
              "    </tr>\n",
              "  </tbody>\n",
              "</table>\n",
              "</div>\n",
              "    <div class=\"colab-df-buttons\">\n",
              "\n",
              "  <div class=\"colab-df-container\">\n",
              "    <button class=\"colab-df-convert\" onclick=\"convertToInteractive('df-8bbe8b2d-ba3f-4309-85ce-7a64d63e8f4d')\"\n",
              "            title=\"Convert this dataframe to an interactive table.\"\n",
              "            style=\"display:none;\">\n",
              "\n",
              "  <svg xmlns=\"http://www.w3.org/2000/svg\" height=\"24px\" viewBox=\"0 -960 960 960\">\n",
              "    <path d=\"M120-120v-720h720v720H120Zm60-500h600v-160H180v160Zm220 220h160v-160H400v160Zm0 220h160v-160H400v160ZM180-400h160v-160H180v160Zm440 0h160v-160H620v160ZM180-180h160v-160H180v160Zm440 0h160v-160H620v160Z\"/>\n",
              "  </svg>\n",
              "    </button>\n",
              "\n",
              "  <style>\n",
              "    .colab-df-container {\n",
              "      display:flex;\n",
              "      gap: 12px;\n",
              "    }\n",
              "\n",
              "    .colab-df-convert {\n",
              "      background-color: #E8F0FE;\n",
              "      border: none;\n",
              "      border-radius: 50%;\n",
              "      cursor: pointer;\n",
              "      display: none;\n",
              "      fill: #1967D2;\n",
              "      height: 32px;\n",
              "      padding: 0 0 0 0;\n",
              "      width: 32px;\n",
              "    }\n",
              "\n",
              "    .colab-df-convert:hover {\n",
              "      background-color: #E2EBFA;\n",
              "      box-shadow: 0px 1px 2px rgba(60, 64, 67, 0.3), 0px 1px 3px 1px rgba(60, 64, 67, 0.15);\n",
              "      fill: #174EA6;\n",
              "    }\n",
              "\n",
              "    .colab-df-buttons div {\n",
              "      margin-bottom: 4px;\n",
              "    }\n",
              "\n",
              "    [theme=dark] .colab-df-convert {\n",
              "      background-color: #3B4455;\n",
              "      fill: #D2E3FC;\n",
              "    }\n",
              "\n",
              "    [theme=dark] .colab-df-convert:hover {\n",
              "      background-color: #434B5C;\n",
              "      box-shadow: 0px 1px 3px 1px rgba(0, 0, 0, 0.15);\n",
              "      filter: drop-shadow(0px 1px 2px rgba(0, 0, 0, 0.3));\n",
              "      fill: #FFFFFF;\n",
              "    }\n",
              "  </style>\n",
              "\n",
              "    <script>\n",
              "      const buttonEl =\n",
              "        document.querySelector('#df-8bbe8b2d-ba3f-4309-85ce-7a64d63e8f4d button.colab-df-convert');\n",
              "      buttonEl.style.display =\n",
              "        google.colab.kernel.accessAllowed ? 'block' : 'none';\n",
              "\n",
              "      async function convertToInteractive(key) {\n",
              "        const element = document.querySelector('#df-8bbe8b2d-ba3f-4309-85ce-7a64d63e8f4d');\n",
              "        const dataTable =\n",
              "          await google.colab.kernel.invokeFunction('convertToInteractive',\n",
              "                                                    [key], {});\n",
              "        if (!dataTable) return;\n",
              "\n",
              "        const docLinkHtml = 'Like what you see? Visit the ' +\n",
              "          '<a target=\"_blank\" href=https://colab.research.google.com/notebooks/data_table.ipynb>data table notebook</a>'\n",
              "          + ' to learn more about interactive tables.';\n",
              "        element.innerHTML = '';\n",
              "        dataTable['output_type'] = 'display_data';\n",
              "        await google.colab.output.renderOutput(dataTable, element);\n",
              "        const docLink = document.createElement('div');\n",
              "        docLink.innerHTML = docLinkHtml;\n",
              "        element.appendChild(docLink);\n",
              "      }\n",
              "    </script>\n",
              "  </div>\n",
              "\n",
              "\n",
              "<div id=\"df-047055c5-67c3-49d9-b8ed-d021c61e88f3\">\n",
              "  <button class=\"colab-df-quickchart\" onclick=\"quickchart('df-047055c5-67c3-49d9-b8ed-d021c61e88f3')\"\n",
              "            title=\"Suggest charts\"\n",
              "            style=\"display:none;\">\n",
              "\n",
              "<svg xmlns=\"http://www.w3.org/2000/svg\" height=\"24px\"viewBox=\"0 0 24 24\"\n",
              "     width=\"24px\">\n",
              "    <g>\n",
              "        <path d=\"M19 3H5c-1.1 0-2 .9-2 2v14c0 1.1.9 2 2 2h14c1.1 0 2-.9 2-2V5c0-1.1-.9-2-2-2zM9 17H7v-7h2v7zm4 0h-2V7h2v10zm4 0h-2v-4h2v4z\"/>\n",
              "    </g>\n",
              "</svg>\n",
              "  </button>\n",
              "\n",
              "<style>\n",
              "  .colab-df-quickchart {\n",
              "      --bg-color: #E8F0FE;\n",
              "      --fill-color: #1967D2;\n",
              "      --hover-bg-color: #E2EBFA;\n",
              "      --hover-fill-color: #174EA6;\n",
              "      --disabled-fill-color: #AAA;\n",
              "      --disabled-bg-color: #DDD;\n",
              "  }\n",
              "\n",
              "  [theme=dark] .colab-df-quickchart {\n",
              "      --bg-color: #3B4455;\n",
              "      --fill-color: #D2E3FC;\n",
              "      --hover-bg-color: #434B5C;\n",
              "      --hover-fill-color: #FFFFFF;\n",
              "      --disabled-bg-color: #3B4455;\n",
              "      --disabled-fill-color: #666;\n",
              "  }\n",
              "\n",
              "  .colab-df-quickchart {\n",
              "    background-color: var(--bg-color);\n",
              "    border: none;\n",
              "    border-radius: 50%;\n",
              "    cursor: pointer;\n",
              "    display: none;\n",
              "    fill: var(--fill-color);\n",
              "    height: 32px;\n",
              "    padding: 0;\n",
              "    width: 32px;\n",
              "  }\n",
              "\n",
              "  .colab-df-quickchart:hover {\n",
              "    background-color: var(--hover-bg-color);\n",
              "    box-shadow: 0 1px 2px rgba(60, 64, 67, 0.3), 0 1px 3px 1px rgba(60, 64, 67, 0.15);\n",
              "    fill: var(--button-hover-fill-color);\n",
              "  }\n",
              "\n",
              "  .colab-df-quickchart-complete:disabled,\n",
              "  .colab-df-quickchart-complete:disabled:hover {\n",
              "    background-color: var(--disabled-bg-color);\n",
              "    fill: var(--disabled-fill-color);\n",
              "    box-shadow: none;\n",
              "  }\n",
              "\n",
              "  .colab-df-spinner {\n",
              "    border: 2px solid var(--fill-color);\n",
              "    border-color: transparent;\n",
              "    border-bottom-color: var(--fill-color);\n",
              "    animation:\n",
              "      spin 1s steps(1) infinite;\n",
              "  }\n",
              "\n",
              "  @keyframes spin {\n",
              "    0% {\n",
              "      border-color: transparent;\n",
              "      border-bottom-color: var(--fill-color);\n",
              "      border-left-color: var(--fill-color);\n",
              "    }\n",
              "    20% {\n",
              "      border-color: transparent;\n",
              "      border-left-color: var(--fill-color);\n",
              "      border-top-color: var(--fill-color);\n",
              "    }\n",
              "    30% {\n",
              "      border-color: transparent;\n",
              "      border-left-color: var(--fill-color);\n",
              "      border-top-color: var(--fill-color);\n",
              "      border-right-color: var(--fill-color);\n",
              "    }\n",
              "    40% {\n",
              "      border-color: transparent;\n",
              "      border-right-color: var(--fill-color);\n",
              "      border-top-color: var(--fill-color);\n",
              "    }\n",
              "    60% {\n",
              "      border-color: transparent;\n",
              "      border-right-color: var(--fill-color);\n",
              "    }\n",
              "    80% {\n",
              "      border-color: transparent;\n",
              "      border-right-color: var(--fill-color);\n",
              "      border-bottom-color: var(--fill-color);\n",
              "    }\n",
              "    90% {\n",
              "      border-color: transparent;\n",
              "      border-bottom-color: var(--fill-color);\n",
              "    }\n",
              "  }\n",
              "</style>\n",
              "\n",
              "  <script>\n",
              "    async function quickchart(key) {\n",
              "      const quickchartButtonEl =\n",
              "        document.querySelector('#' + key + ' button');\n",
              "      quickchartButtonEl.disabled = true;  // To prevent multiple clicks.\n",
              "      quickchartButtonEl.classList.add('colab-df-spinner');\n",
              "      try {\n",
              "        const charts = await google.colab.kernel.invokeFunction(\n",
              "            'suggestCharts', [key], {});\n",
              "      } catch (error) {\n",
              "        console.error('Error during call to suggestCharts:', error);\n",
              "      }\n",
              "      quickchartButtonEl.classList.remove('colab-df-spinner');\n",
              "      quickchartButtonEl.classList.add('colab-df-quickchart-complete');\n",
              "    }\n",
              "    (() => {\n",
              "      let quickchartButtonEl =\n",
              "        document.querySelector('#df-047055c5-67c3-49d9-b8ed-d021c61e88f3 button');\n",
              "      quickchartButtonEl.style.display =\n",
              "        google.colab.kernel.accessAllowed ? 'block' : 'none';\n",
              "    })();\n",
              "  </script>\n",
              "</div>\n",
              "\n",
              "    </div>\n",
              "  </div>\n"
            ]
          },
          "metadata": {},
          "execution_count": 7
        }
      ],
      "source": [
        "print(df.shape)\n",
        "df.head()"
      ]
    },
    {
      "cell_type": "code",
      "source": [
        "df[y_col].describe().round(4)"
      ],
      "metadata": {
        "colab": {
          "base_uri": "https://localhost:8080/",
          "height": 300
        },
        "id": "olBGlzDxERh7",
        "outputId": "6af3adf3-bb87-42dc-fc47-0396e3c16a30"
      },
      "execution_count": null,
      "outputs": [
        {
          "output_type": "execute_result",
          "data": {
            "text/plain": [
              "        LHEarlyVis        LHLOC        LHOPA        LHPPA        LHRSC  \\\n",
              "count  113220.0000  113220.0000  113220.0000  113220.0000  113220.0000   \n",
              "mean        0.0011       0.0007       0.0005       0.0009       0.0002   \n",
              "std         0.0069       0.0053       0.0062       0.0076       0.0091   \n",
              "min        -0.0333      -0.0320      -0.0426      -0.0392      -0.0580   \n",
              "25%        -0.0037      -0.0028      -0.0033      -0.0042      -0.0057   \n",
              "50%         0.0014       0.0008       0.0003       0.0007      -0.0001   \n",
              "75%         0.0059       0.0041       0.0042       0.0059       0.0059   \n",
              "max         0.0459       0.0323       0.0384       0.0538       0.0507   \n",
              "\n",
              "        RHEarlyVis        RHLOC        RHOPA        RHPPA        RHRSC  \n",
              "count  113220.0000  113220.0000  113220.0000  113220.0000  113220.0000  \n",
              "mean        0.0011       0.0008       0.0009       0.0011       0.0007  \n",
              "std         0.0071       0.0057       0.0070       0.0078       0.0080  \n",
              "min        -0.0385      -0.0298      -0.0456      -0.0361      -0.0400  \n",
              "25%        -0.0038      -0.0032      -0.0036      -0.0044      -0.0047  \n",
              "50%         0.0014       0.0010       0.0009       0.0009       0.0005  \n",
              "75%         0.0060       0.0048       0.0054       0.0064       0.0058  \n",
              "max         0.0489       0.0407       0.0548       0.0438       0.0449  "
            ],
            "text/html": [
              "\n",
              "  <div id=\"df-1169413a-4b71-4475-a245-db19d5986152\" class=\"colab-df-container\">\n",
              "    <div>\n",
              "<style scoped>\n",
              "    .dataframe tbody tr th:only-of-type {\n",
              "        vertical-align: middle;\n",
              "    }\n",
              "\n",
              "    .dataframe tbody tr th {\n",
              "        vertical-align: top;\n",
              "    }\n",
              "\n",
              "    .dataframe thead th {\n",
              "        text-align: right;\n",
              "    }\n",
              "</style>\n",
              "<table border=\"1\" class=\"dataframe\">\n",
              "  <thead>\n",
              "    <tr style=\"text-align: right;\">\n",
              "      <th></th>\n",
              "      <th>LHEarlyVis</th>\n",
              "      <th>LHLOC</th>\n",
              "      <th>LHOPA</th>\n",
              "      <th>LHPPA</th>\n",
              "      <th>LHRSC</th>\n",
              "      <th>RHEarlyVis</th>\n",
              "      <th>RHLOC</th>\n",
              "      <th>RHOPA</th>\n",
              "      <th>RHPPA</th>\n",
              "      <th>RHRSC</th>\n",
              "    </tr>\n",
              "  </thead>\n",
              "  <tbody>\n",
              "    <tr>\n",
              "      <th>count</th>\n",
              "      <td>113220.0000</td>\n",
              "      <td>113220.0000</td>\n",
              "      <td>113220.0000</td>\n",
              "      <td>113220.0000</td>\n",
              "      <td>113220.0000</td>\n",
              "      <td>113220.0000</td>\n",
              "      <td>113220.0000</td>\n",
              "      <td>113220.0000</td>\n",
              "      <td>113220.0000</td>\n",
              "      <td>113220.0000</td>\n",
              "    </tr>\n",
              "    <tr>\n",
              "      <th>mean</th>\n",
              "      <td>0.0011</td>\n",
              "      <td>0.0007</td>\n",
              "      <td>0.0005</td>\n",
              "      <td>0.0009</td>\n",
              "      <td>0.0002</td>\n",
              "      <td>0.0011</td>\n",
              "      <td>0.0008</td>\n",
              "      <td>0.0009</td>\n",
              "      <td>0.0011</td>\n",
              "      <td>0.0007</td>\n",
              "    </tr>\n",
              "    <tr>\n",
              "      <th>std</th>\n",
              "      <td>0.0069</td>\n",
              "      <td>0.0053</td>\n",
              "      <td>0.0062</td>\n",
              "      <td>0.0076</td>\n",
              "      <td>0.0091</td>\n",
              "      <td>0.0071</td>\n",
              "      <td>0.0057</td>\n",
              "      <td>0.0070</td>\n",
              "      <td>0.0078</td>\n",
              "      <td>0.0080</td>\n",
              "    </tr>\n",
              "    <tr>\n",
              "      <th>min</th>\n",
              "      <td>-0.0333</td>\n",
              "      <td>-0.0320</td>\n",
              "      <td>-0.0426</td>\n",
              "      <td>-0.0392</td>\n",
              "      <td>-0.0580</td>\n",
              "      <td>-0.0385</td>\n",
              "      <td>-0.0298</td>\n",
              "      <td>-0.0456</td>\n",
              "      <td>-0.0361</td>\n",
              "      <td>-0.0400</td>\n",
              "    </tr>\n",
              "    <tr>\n",
              "      <th>25%</th>\n",
              "      <td>-0.0037</td>\n",
              "      <td>-0.0028</td>\n",
              "      <td>-0.0033</td>\n",
              "      <td>-0.0042</td>\n",
              "      <td>-0.0057</td>\n",
              "      <td>-0.0038</td>\n",
              "      <td>-0.0032</td>\n",
              "      <td>-0.0036</td>\n",
              "      <td>-0.0044</td>\n",
              "      <td>-0.0047</td>\n",
              "    </tr>\n",
              "    <tr>\n",
              "      <th>50%</th>\n",
              "      <td>0.0014</td>\n",
              "      <td>0.0008</td>\n",
              "      <td>0.0003</td>\n",
              "      <td>0.0007</td>\n",
              "      <td>-0.0001</td>\n",
              "      <td>0.0014</td>\n",
              "      <td>0.0010</td>\n",
              "      <td>0.0009</td>\n",
              "      <td>0.0009</td>\n",
              "      <td>0.0005</td>\n",
              "    </tr>\n",
              "    <tr>\n",
              "      <th>75%</th>\n",
              "      <td>0.0059</td>\n",
              "      <td>0.0041</td>\n",
              "      <td>0.0042</td>\n",
              "      <td>0.0059</td>\n",
              "      <td>0.0059</td>\n",
              "      <td>0.0060</td>\n",
              "      <td>0.0048</td>\n",
              "      <td>0.0054</td>\n",
              "      <td>0.0064</td>\n",
              "      <td>0.0058</td>\n",
              "    </tr>\n",
              "    <tr>\n",
              "      <th>max</th>\n",
              "      <td>0.0459</td>\n",
              "      <td>0.0323</td>\n",
              "      <td>0.0384</td>\n",
              "      <td>0.0538</td>\n",
              "      <td>0.0507</td>\n",
              "      <td>0.0489</td>\n",
              "      <td>0.0407</td>\n",
              "      <td>0.0548</td>\n",
              "      <td>0.0438</td>\n",
              "      <td>0.0449</td>\n",
              "    </tr>\n",
              "  </tbody>\n",
              "</table>\n",
              "</div>\n",
              "    <div class=\"colab-df-buttons\">\n",
              "\n",
              "  <div class=\"colab-df-container\">\n",
              "    <button class=\"colab-df-convert\" onclick=\"convertToInteractive('df-1169413a-4b71-4475-a245-db19d5986152')\"\n",
              "            title=\"Convert this dataframe to an interactive table.\"\n",
              "            style=\"display:none;\">\n",
              "\n",
              "  <svg xmlns=\"http://www.w3.org/2000/svg\" height=\"24px\" viewBox=\"0 -960 960 960\">\n",
              "    <path d=\"M120-120v-720h720v720H120Zm60-500h600v-160H180v160Zm220 220h160v-160H400v160Zm0 220h160v-160H400v160ZM180-400h160v-160H180v160Zm440 0h160v-160H620v160ZM180-180h160v-160H180v160Zm440 0h160v-160H620v160Z\"/>\n",
              "  </svg>\n",
              "    </button>\n",
              "\n",
              "  <style>\n",
              "    .colab-df-container {\n",
              "      display:flex;\n",
              "      gap: 12px;\n",
              "    }\n",
              "\n",
              "    .colab-df-convert {\n",
              "      background-color: #E8F0FE;\n",
              "      border: none;\n",
              "      border-radius: 50%;\n",
              "      cursor: pointer;\n",
              "      display: none;\n",
              "      fill: #1967D2;\n",
              "      height: 32px;\n",
              "      padding: 0 0 0 0;\n",
              "      width: 32px;\n",
              "    }\n",
              "\n",
              "    .colab-df-convert:hover {\n",
              "      background-color: #E2EBFA;\n",
              "      box-shadow: 0px 1px 2px rgba(60, 64, 67, 0.3), 0px 1px 3px 1px rgba(60, 64, 67, 0.15);\n",
              "      fill: #174EA6;\n",
              "    }\n",
              "\n",
              "    .colab-df-buttons div {\n",
              "      margin-bottom: 4px;\n",
              "    }\n",
              "\n",
              "    [theme=dark] .colab-df-convert {\n",
              "      background-color: #3B4455;\n",
              "      fill: #D2E3FC;\n",
              "    }\n",
              "\n",
              "    [theme=dark] .colab-df-convert:hover {\n",
              "      background-color: #434B5C;\n",
              "      box-shadow: 0px 1px 3px 1px rgba(0, 0, 0, 0.15);\n",
              "      filter: drop-shadow(0px 1px 2px rgba(0, 0, 0, 0.3));\n",
              "      fill: #FFFFFF;\n",
              "    }\n",
              "  </style>\n",
              "\n",
              "    <script>\n",
              "      const buttonEl =\n",
              "        document.querySelector('#df-1169413a-4b71-4475-a245-db19d5986152 button.colab-df-convert');\n",
              "      buttonEl.style.display =\n",
              "        google.colab.kernel.accessAllowed ? 'block' : 'none';\n",
              "\n",
              "      async function convertToInteractive(key) {\n",
              "        const element = document.querySelector('#df-1169413a-4b71-4475-a245-db19d5986152');\n",
              "        const dataTable =\n",
              "          await google.colab.kernel.invokeFunction('convertToInteractive',\n",
              "                                                    [key], {});\n",
              "        if (!dataTable) return;\n",
              "\n",
              "        const docLinkHtml = 'Like what you see? Visit the ' +\n",
              "          '<a target=\"_blank\" href=https://colab.research.google.com/notebooks/data_table.ipynb>data table notebook</a>'\n",
              "          + ' to learn more about interactive tables.';\n",
              "        element.innerHTML = '';\n",
              "        dataTable['output_type'] = 'display_data';\n",
              "        await google.colab.output.renderOutput(dataTable, element);\n",
              "        const docLink = document.createElement('div');\n",
              "        docLink.innerHTML = docLinkHtml;\n",
              "        element.appendChild(docLink);\n",
              "      }\n",
              "    </script>\n",
              "  </div>\n",
              "\n",
              "\n",
              "<div id=\"df-e59f1b71-26fd-4b68-8577-855816cc0d66\">\n",
              "  <button class=\"colab-df-quickchart\" onclick=\"quickchart('df-e59f1b71-26fd-4b68-8577-855816cc0d66')\"\n",
              "            title=\"Suggest charts\"\n",
              "            style=\"display:none;\">\n",
              "\n",
              "<svg xmlns=\"http://www.w3.org/2000/svg\" height=\"24px\"viewBox=\"0 0 24 24\"\n",
              "     width=\"24px\">\n",
              "    <g>\n",
              "        <path d=\"M19 3H5c-1.1 0-2 .9-2 2v14c0 1.1.9 2 2 2h14c1.1 0 2-.9 2-2V5c0-1.1-.9-2-2-2zM9 17H7v-7h2v7zm4 0h-2V7h2v10zm4 0h-2v-4h2v4z\"/>\n",
              "    </g>\n",
              "</svg>\n",
              "  </button>\n",
              "\n",
              "<style>\n",
              "  .colab-df-quickchart {\n",
              "      --bg-color: #E8F0FE;\n",
              "      --fill-color: #1967D2;\n",
              "      --hover-bg-color: #E2EBFA;\n",
              "      --hover-fill-color: #174EA6;\n",
              "      --disabled-fill-color: #AAA;\n",
              "      --disabled-bg-color: #DDD;\n",
              "  }\n",
              "\n",
              "  [theme=dark] .colab-df-quickchart {\n",
              "      --bg-color: #3B4455;\n",
              "      --fill-color: #D2E3FC;\n",
              "      --hover-bg-color: #434B5C;\n",
              "      --hover-fill-color: #FFFFFF;\n",
              "      --disabled-bg-color: #3B4455;\n",
              "      --disabled-fill-color: #666;\n",
              "  }\n",
              "\n",
              "  .colab-df-quickchart {\n",
              "    background-color: var(--bg-color);\n",
              "    border: none;\n",
              "    border-radius: 50%;\n",
              "    cursor: pointer;\n",
              "    display: none;\n",
              "    fill: var(--fill-color);\n",
              "    height: 32px;\n",
              "    padding: 0;\n",
              "    width: 32px;\n",
              "  }\n",
              "\n",
              "  .colab-df-quickchart:hover {\n",
              "    background-color: var(--hover-bg-color);\n",
              "    box-shadow: 0 1px 2px rgba(60, 64, 67, 0.3), 0 1px 3px 1px rgba(60, 64, 67, 0.15);\n",
              "    fill: var(--button-hover-fill-color);\n",
              "  }\n",
              "\n",
              "  .colab-df-quickchart-complete:disabled,\n",
              "  .colab-df-quickchart-complete:disabled:hover {\n",
              "    background-color: var(--disabled-bg-color);\n",
              "    fill: var(--disabled-fill-color);\n",
              "    box-shadow: none;\n",
              "  }\n",
              "\n",
              "  .colab-df-spinner {\n",
              "    border: 2px solid var(--fill-color);\n",
              "    border-color: transparent;\n",
              "    border-bottom-color: var(--fill-color);\n",
              "    animation:\n",
              "      spin 1s steps(1) infinite;\n",
              "  }\n",
              "\n",
              "  @keyframes spin {\n",
              "    0% {\n",
              "      border-color: transparent;\n",
              "      border-bottom-color: var(--fill-color);\n",
              "      border-left-color: var(--fill-color);\n",
              "    }\n",
              "    20% {\n",
              "      border-color: transparent;\n",
              "      border-left-color: var(--fill-color);\n",
              "      border-top-color: var(--fill-color);\n",
              "    }\n",
              "    30% {\n",
              "      border-color: transparent;\n",
              "      border-left-color: var(--fill-color);\n",
              "      border-top-color: var(--fill-color);\n",
              "      border-right-color: var(--fill-color);\n",
              "    }\n",
              "    40% {\n",
              "      border-color: transparent;\n",
              "      border-right-color: var(--fill-color);\n",
              "      border-top-color: var(--fill-color);\n",
              "    }\n",
              "    60% {\n",
              "      border-color: transparent;\n",
              "      border-right-color: var(--fill-color);\n",
              "    }\n",
              "    80% {\n",
              "      border-color: transparent;\n",
              "      border-right-color: var(--fill-color);\n",
              "      border-bottom-color: var(--fill-color);\n",
              "    }\n",
              "    90% {\n",
              "      border-color: transparent;\n",
              "      border-bottom-color: var(--fill-color);\n",
              "    }\n",
              "  }\n",
              "</style>\n",
              "\n",
              "  <script>\n",
              "    async function quickchart(key) {\n",
              "      const quickchartButtonEl =\n",
              "        document.querySelector('#' + key + ' button');\n",
              "      quickchartButtonEl.disabled = true;  // To prevent multiple clicks.\n",
              "      quickchartButtonEl.classList.add('colab-df-spinner');\n",
              "      try {\n",
              "        const charts = await google.colab.kernel.invokeFunction(\n",
              "            'suggestCharts', [key], {});\n",
              "      } catch (error) {\n",
              "        console.error('Error during call to suggestCharts:', error);\n",
              "      }\n",
              "      quickchartButtonEl.classList.remove('colab-df-spinner');\n",
              "      quickchartButtonEl.classList.add('colab-df-quickchart-complete');\n",
              "    }\n",
              "    (() => {\n",
              "      let quickchartButtonEl =\n",
              "        document.querySelector('#df-e59f1b71-26fd-4b68-8577-855816cc0d66 button');\n",
              "      quickchartButtonEl.style.display =\n",
              "        google.colab.kernel.accessAllowed ? 'block' : 'none';\n",
              "    })();\n",
              "  </script>\n",
              "</div>\n",
              "\n",
              "    </div>\n",
              "  </div>\n"
            ]
          },
          "metadata": {},
          "execution_count": 8
        }
      ]
    },
    {
      "cell_type": "markdown",
      "source": [
        "Normalization of data:"
      ],
      "metadata": {
        "id": "_HY7GTAYMHHR"
      }
    },
    {
      "cell_type": "code",
      "source": [
        "plt.hist(df[y_col[0]])"
      ],
      "metadata": {
        "colab": {
          "base_uri": "https://localhost:8080/",
          "height": 542
        },
        "id": "2lX43UAU9WQj",
        "outputId": "41c611e4-f57d-423a-f0e6-2706e4de5f5b"
      },
      "execution_count": null,
      "outputs": [
        {
          "output_type": "execute_result",
          "data": {
            "text/plain": [
              "(array([2.3000e+01, 5.8000e+02, 6.8480e+03, 3.1630e+04, 4.8102e+04,\n",
              "        2.3751e+04, 2.1820e+03, 9.4000e+01, 8.0000e+00, 2.0000e+00]),\n",
              " array([-0.03327932, -0.02535785, -0.01743638, -0.00951492, -0.00159345,\n",
              "         0.00632802,  0.01424949,  0.02217096,  0.03009243,  0.0380139 ,\n",
              "         0.04593537]),\n",
              " <BarContainer object of 10 artists>)"
            ]
          },
          "metadata": {},
          "execution_count": 9
        },
        {
          "output_type": "display_data",
          "data": {
            "text/plain": [
              "<Figure size 640x480 with 1 Axes>"
            ],
            "image/png": "[encoded data removed]"
          },
          "metadata": {}
        }
      ]
    },
    {
      "cell_type": "code",
      "source": [
        "# Transform y columns using min-max scaling:\n",
        "scaler = MinMaxScaler()\n",
        "y_col = ['LHEarlyVis', 'LHLOC', 'LHOPA', 'LHPPA', 'LHRSC', 'RHEarlyVis',\n",
        "         'RHLOC', 'RHOPA', 'RHPPA', 'RHRSC']\n",
        "for col in y_col:\n",
        "  df[col] = scaler.fit_transform(df[[col]])\n",
        "plt.hist(df[y_col[0]])"
      ],
      "metadata": {
        "colab": {
          "base_uri": "https://localhost:8080/",
          "height": 505
        },
        "id": "Uy8k6GNnOmyw",
        "outputId": "e73f18d0-c07f-4748-b0a0-45b09ac71cb0"
      },
      "execution_count": null,
      "outputs": [
        {
          "output_type": "execute_result",
          "data": {
            "text/plain": [
              "(array([2.3000e+01, 5.8000e+02, 6.8480e+03, 3.1630e+04, 4.8102e+04,\n",
              "        2.3751e+04, 2.1820e+03, 9.4000e+01, 8.0000e+00, 2.0000e+00]),\n",
              " array([0. , 0.1, 0.2, 0.3, 0.4, 0.5, 0.6, 0.7, 0.8, 0.9, 1. ]),\n",
              " <BarContainer object of 10 artists>)"
            ]
          },
          "metadata": {},
          "execution_count": 10
        },
        {
          "output_type": "display_data",
          "data": {
            "text/plain": [
              "<Figure size 640x480 with 1 Axes>"
            ],
            "image/png": "[encoded data removed]"
          },
          "metadata": {}
        }
      ]
    },
    {
      "cell_type": "markdown",
      "metadata": {
        "id": "uwOhDg1wkzG2"
      },
      "source": [
        "Load images:"
      ]
    },
    {
      "cell_type": "code",
      "execution_count": null,
      "metadata": {
        "id": "k5RfQUH6k3uE"
      },
      "outputs": [],
      "source": [
        "# Check which images exist:\n",
        "parent_image_path = '/content/drive/My Drive/BUSN 41916 Project/Data/BOLD5000_Stimuli/Scene_Stimuli/Presented_Stimuli/'\n",
        "folders = ['COCO', 'ImageNet', 'Scene']\n",
        "# Create a dictionary that maps image ids to their path in Google Drive:\n",
        "image_paths = {}\n",
        "for image_id in df['image_id'].unique():\n",
        "  # Search for image in the 3 different folders:\n",
        "  for folder in folders:\n",
        "    image_path = parent_image_path + f'{folder}/{image_id}'\n",
        "    if os.path.exists(image_path):\n",
        "      image_paths[image_id] = image_path\n",
        "      break\n"
      ]
    },
    {
      "cell_type": "code",
      "execution_count": null,
      "metadata": {
        "colab": {
          "base_uri": "https://localhost:8080/"
        },
        "id": "H03e7lNElRWl",
        "outputId": "8878fe09-f06e-49bc-89a7-9b1308486e3b"
      },
      "outputs": [
        {
          "output_type": "execute_result",
          "data": {
            "text/plain": [
              "4916"
            ]
          },
          "metadata": {},
          "execution_count": 12
        }
      ],
      "source": [
        "len(image_paths)"
      ]
    },
    {
      "cell_type": "code",
      "execution_count": null,
      "metadata": {
        "colab": {
          "base_uri": "https://localhost:8080/"
        },
        "id": "l2Kos2-alRkb",
        "outputId": "342482af-ad0a-4912-e47a-d1c073b4feb6"
      },
      "outputs": [
        {
          "output_type": "execute_result",
          "data": {
            "text/plain": [
              "5029"
            ]
          },
          "metadata": {},
          "execution_count": 13
        }
      ],
      "source": [
        "len(df['image_id'].unique())"
      ]
    },
    {
      "cell_type": "code",
      "execution_count": null,
      "metadata": {
        "colab": {
          "base_uri": "https://localhost:8080/"
        },
        "id": "mCRA3HoKt18G",
        "outputId": "1bb87aa1-391d-4e32-987e-8c5235fb5de8"
      },
      "outputs": [
        {
          "output_type": "execute_result",
          "data": {
            "text/plain": [
              "113"
            ]
          },
          "metadata": {},
          "execution_count": 14
        }
      ],
      "source": [
        "# Find images that are not in the drive:\n",
        "good_images = set(image_paths.keys())\n",
        "bad_images = []\n",
        "for image_id in df['image_id'].unique():\n",
        "  if image_id not in good_images:\n",
        "    bad_images.append(image_id)\n",
        "len(bad_images)"
      ]
    },
    {
      "cell_type": "markdown",
      "metadata": {
        "id": "6UCOGXjRwNwZ"
      },
      "source": [
        "Remove records in main data frame that use images that are unavailable:"
      ]
    },
    {
      "cell_type": "code",
      "execution_count": null,
      "metadata": {
        "colab": {
          "base_uri": "https://localhost:8080/"
        },
        "id": "DdxnMSDdwNYc",
        "outputId": "857df006-f27c-4ede-9dd0-b5fbb40add14"
      },
      "outputs": [
        {
          "output_type": "stream",
          "name": "stdout",
          "text": [
            "Shape before removal: (113220, 14)\n",
            "Shape after removal: (105912, 14)\n"
          ]
        }
      ],
      "source": [
        "print('Shape before removal:', df.shape)\n",
        "df = df[~df['image_id'].isin(bad_images)]\n",
        "print('Shape after removal:', df.shape)"
      ]
    },
    {
      "cell_type": "markdown",
      "metadata": {
        "id": "HEfuDHlP7yse"
      },
      "source": [
        "Convert images to numpy arrays and save in an .npz file (will take 10-20 mins, but only needs to run once):"
      ]
    },
    {
      "cell_type": "code",
      "execution_count": null,
      "metadata": {
        "id": "8bvy0P0m6kdI"
      },
      "outputs": [],
      "source": [
        "# image_arrays = {}\n",
        "# i = 0\n",
        "# image_normalization = False\n",
        "# for image_id in df['image_id'].unique():\n",
        "#   i += 1\n",
        "#   # print(i)\n",
        "#   image = Image.open(image_paths[image_id])\n",
        "#   image_arrays[image_id] = np.array(image)\n",
        "#   if i % 100 == 0:\n",
        "#     print(i) # To monitor progress\n",
        "# # Save to .npz file:\n",
        "# file_path = '/content/drive/My Drive/Autumn 2023/BUSN 41916 Project/Data/stimuli_image_arrays.npz'\n",
        "# np.savez(file_path, image_arrays, allow_pickle=True)\n",
        "\n",
        "# # Save 1000 normalized images:\n",
        "# image_arrays = {}\n",
        "# ids = random.sample(list(df['image_id'].unique()), 1000)\n",
        "# for i, image_id in enumerate(ids):\n",
        "#   image = Image.open(image_paths[image_id])\n",
        "#   image_arrays[image_id] = normalize(np.array(image), axis=1)\n",
        "#   if i % 100 == 0:\n",
        "#     print(i) # To monitor progress\n",
        "# # Save to .npz file:\n",
        "# file_path = '/content/drive/My Drive/Autumn 2023/BUSN 41916 Project/Data/stimuli_image_arrays_normalized_1000.npz'\n",
        "# np.savez(file_path, image_arrays, allow_pickle=True)"
      ]
    },
    {
      "cell_type": "markdown",
      "source": [
        "Read images from .npz file:"
      ],
      "metadata": {
        "id": "8tzAXCQHEb-s"
      }
    },
    {
      "cell_type": "code",
      "source": [
        "# Read the .npz file:\n",
        "if image_normalization:\n",
        "  file_path = '/content/drive/My Drive/BUSN 41916 Project/Data/stimuli_image_arrays_normalized_1000.npz'\n",
        "else:\n",
        "  file_path = '/content/drive/My Drive/BUSN 41916 Project/Data/stimuli_image_arrays.npz'\n",
        "loaded_arrays = np.load(file_path, allow_pickle=True)\n",
        "image_arrays = loaded_arrays['arr_0'].item()\n",
        "# Try to clear out any unused data to save RAM:\n",
        "del loaded_arrays\n",
        "gc.collect()\n",
        "print(len(image_arrays.keys()))"
      ],
      "metadata": {
        "id": "7SFkT6CvDv8H",
        "colab": {
          "base_uri": "https://localhost:8080/"
        },
        "outputId": "a5c6b01b-c849-4ce7-a749-3cd70fad1ec6"
      },
      "execution_count": null,
      "outputs": [
        {
          "output_type": "stream",
          "name": "stdout",
          "text": [
            "4916\n"
          ]
        }
      ]
    },
    {
      "cell_type": "markdown",
      "source": [
        "All images are now stored as numpy arrays in the image_arrays dictionary. Each image is a value in the dictionary, where the key is the image's file name as it appears on Google Drive."
      ],
      "metadata": {
        "id": "ZXl1A8EKlcNe"
      }
    },
    {
      "cell_type": "markdown",
      "source": [
        "# CNN"
      ],
      "metadata": {
        "id": "qvIiX9kfm9e-"
      }
    },
    {
      "cell_type": "markdown",
      "source": [
        "## Data manipulation:"
      ],
      "metadata": {
        "id": "YfjZx6lJHxo2"
      }
    },
    {
      "cell_type": "code",
      "source": [
        "# Edit data frame to remove rows that are not in the image dictionary:\n",
        "print('Shape of df before removal:', df.shape)\n",
        "df = df[df['image_id'].isin(image_arrays.keys())]\n",
        "print('Shape of df after removal:', df.shape)"
      ],
      "metadata": {
        "colab": {
          "base_uri": "https://localhost:8080/"
        },
        "id": "_NciEeKhsFnV",
        "outputId": "76d2b50e-3e2e-44d2-9975-260e7696e80a"
      },
      "execution_count": null,
      "outputs": [
        {
          "output_type": "stream",
          "name": "stdout",
          "text": [
            "Shape of df before removal: (105912, 14)\n",
            "Shape of df after removal: (105912, 14)\n"
          ]
        }
      ]
    },
    {
      "cell_type": "code",
      "source": [
        "# Check if all images are the same shape:\n",
        "shapes = {}\n",
        "for array in image_arrays.values():\n",
        "  shapes[array.shape] = shapes.get(array.shape, 0) + 1\n",
        "shapes"
      ],
      "metadata": {
        "colab": {
          "base_uri": "https://localhost:8080/"
        },
        "id": "FV_8zcmwmMpK",
        "outputId": "7b06c087-fa59-471e-afa9-fd34c9505279"
      },
      "execution_count": null,
      "outputs": [
        {
          "output_type": "execute_result",
          "data": {
            "text/plain": [
              "{(375, 375, 3): 4913, (348, 375, 3): 1, (375, 377, 3): 1, (375, 359, 3): 1}"
            ]
          },
          "metadata": {},
          "execution_count": 19
        }
      ]
    },
    {
      "cell_type": "code",
      "execution_count": null,
      "metadata": {
        "id": "_H-Bht6Bfg5O"
      },
      "outputs": [],
      "source": [
        "# Resize images to a standard shape:\n",
        "target_shape = (375, 375, 3)\n",
        "for key, image in list(image_arrays.items()):\n",
        "  if image.shape != target_shape:\n",
        "    tensor_image = tf.image.resize(image, target_shape[:2])\n",
        "    # Convert values to int to save memory:\n",
        "    tensor_image = tf.cast(tensor_image, dtype=tf.int32)\n",
        "    image_arrays[key] = tensor_image.numpy()"
      ]
    },
    {
      "cell_type": "code",
      "source": [
        "# Split into training and test sets:\n",
        "#training_df, testing_df = train_test_split(df, test_size=0.2)\n",
        "#y_col = ['LHEarlyVis', 'LHLOC', 'LHOPA', 'LHPPA', 'LHRSC', 'RHEarlyVis',\n",
        "         #'RHLOC', 'RHOPA', 'RHPPA', 'RHRSC']\n",
        "#y = training_df[y_col].to_numpy()\n",
        "#image_datagen = ImageDataGenerator(rescale=1./255)"
      ],
      "metadata": {
        "id": "L6gMVulAeXLk"
      },
      "execution_count": null,
      "outputs": []
    },
    {
      "cell_type": "code",
      "source": [
        "# Create a generator for loading images from the dictionary\n",
        "def image_generator(df, image_dict, batch_size):\n",
        "    image_datagen = ImageDataGenerator(rescale=1./255)\n",
        "    while True:\n",
        "        # Generate batch_size random indices\n",
        "        indices = np.random.choice(len(df), size=batch_size, replace=False)\n",
        "\n",
        "        # Get corresponding image titles and activations\n",
        "        batch_image_titles = df['image_id'].iloc[indices]\n",
        "        batch_activations = y.iloc[indices]\n",
        "\n",
        "        # Check if all image titles are present in the image_dict\n",
        "        if not all(title in image_dict for title in batch_image_titles):\n",
        "            print(\"Skipping batch due to missing image in dictionary.\")\n",
        "            continue\n",
        "\n",
        "        # Load images based on the batch_image_titles\n",
        "        batch_images = [image_dict[title] for title in batch_image_titles]\n",
        "\n",
        "        # Convert the list of images to numpy array\n",
        "        batch_images = np.array(batch_images)\n",
        "\n",
        "        # Apply data augmentation\n",
        "        batch_images = image_datagen.flow(batch_images, shuffle=False).next()\n",
        "\n",
        "        yield batch_images, {'output_layer': batch_activations}"
      ],
      "metadata": {
        "id": "R3FuQ0i2pXMy"
      },
      "execution_count": null,
      "outputs": []
    },
    {
      "cell_type": "markdown",
      "source": [
        "### Only predicting one region (LHLOC):"
      ],
      "metadata": {
        "id": "iaPmtlqKvCc-"
      }
    },
    {
      "cell_type": "code",
      "source": [
        "# y = df['LHLOC'].to_numpy()\n",
        "# image_datagen = ImageDataGenerator(rescale=1./255)\n",
        "# # Create a generator for loading images from the dictionary\n",
        "# def image_generator(df, image_dict, image_datagen, batch_size):\n",
        "#     while True:\n",
        "#         # Generate batch_size random indices\n",
        "#         indices = np.random.choice(len(df), size=batch_size, replace=False)\n",
        "\n",
        "#         # Get corresponding image titles and activations\n",
        "#         batch_image_titles = df['image_id'].iloc[indices]\n",
        "#         batch_activations = y[indices]\n",
        "\n",
        "#         # Load images based on the batch_image_titles\n",
        "#         batch_images = [image_dict[title] for title in batch_image_titles]\n",
        "\n",
        "#         # Convert the list of images to numpy array\n",
        "#         batch_images = np.array(batch_images)\n",
        "\n",
        "#         # Apply data augmentation\n",
        "#         batch_images = image_datagen.flow(batch_images, shuffle=False).next()\n",
        "\n",
        "#         yield batch_images, batch_activations"
      ],
      "metadata": {
        "id": "_NvsP1T1ank0"
      },
      "execution_count": null,
      "outputs": []
    },
    {
      "cell_type": "code",
      "source": [
        "# # Define your CNN model\n",
        "# model = models.Sequential()\n",
        "# model.add(layers.Conv2D(32, (3, 3), activation='relu', input_shape=(375, 375, 3)))\n",
        "# model.add(layers.MaxPooling2D((2, 2)))\n",
        "# model.add(layers.Conv2D(64, (3, 3), activation='relu'))\n",
        "# model.add(layers.MaxPooling2D((2, 2)))\n",
        "# model.add(layers.Conv2D(64, (3, 3), activation='relu'))\n",
        "# model.add(layers.Flatten())\n",
        "# model.add(layers.Dense(64, activation='relu'))\n",
        "# model.add(layers.Dense(1))  # Adjust the number of units based on your task"
      ],
      "metadata": {
        "id": "stV1xQFrbSFg"
      },
      "execution_count": null,
      "outputs": []
    },
    {
      "cell_type": "code",
      "source": [
        "# # Compile the model\n",
        "# model.compile(optimizer='adam',\n",
        "#               loss='mean_squared_error',  # Change the loss based on your task\n",
        "#               metrics=['mae', 'mean_absolute_percentage_error'])  # Change metrics based on your task"
      ],
      "metadata": {
        "id": "nEkjCELqbkiL"
      },
      "execution_count": null,
      "outputs": []
    },
    {
      "cell_type": "code",
      "source": [
        "# # Specify the batch size\n",
        "# batch_size = 10\n",
        "# num_steps = 1000\n",
        "\n",
        "# # Train the model using the image generator\n",
        "# model.fit_generator(\n",
        "#     image_generator(df, image_arrays, image_datagen, batch_size),\n",
        "#     steps_per_epoch=num_steps,\n",
        "#     epochs=5\n",
        "# )"
      ],
      "metadata": {
        "id": "qfuA1Xc-bq4N"
      },
      "execution_count": null,
      "outputs": []
    },
    {
      "cell_type": "code",
      "source": [
        "# test_df = df.sample(1000)\n",
        "# # Create a generator for the test set\n",
        "# def test_generator(df, image_dict, image_datagen, batch_size):\n",
        "#     while True:\n",
        "#         # Use all samples without randomization for the test set\n",
        "#         for start in range(0, len(df), batch_size):\n",
        "#             end = min(start + batch_size, len(df))\n",
        "#             batch_image_titles = df['image_id'].iloc[start:end]\n",
        "#             batch_activations = df['LHLOC'].iloc[start:end]\n",
        "#             batch_images = [image_dict[title] for title in batch_image_titles]\n",
        "#             batch_images = np.array(batch_images)\n",
        "#             batch_images = image_datagen.flow(batch_images, shuffle=False).next()\n",
        "\n",
        "#             # Ensure batch_activations has the correct shape (batch_size,)\n",
        "#             batch_activations = np.array(batch_activations)\n",
        "\n",
        "#             yield batch_images, batch_activations\n",
        "\n",
        "\n",
        "# # Evaluate the model on the test set\n",
        "# test_batch_size = 10\n",
        "# test_steps = len(test_df) // (test_batch_size * 100)\n",
        "\n",
        "# # Use evaluate_generator for the generator-based evaluation\n",
        "# evaluation = model.evaluate_generator(\n",
        "#     test_generator(test_df, image_arrays, image_datagen, test_batch_size),\n",
        "#     steps=test_steps\n",
        "# )\n",
        "\n",
        "# print(f\"Test Loss: {evaluation[0]}\")\n",
        "# print(f\"Test MAE: {evaluation[1]}\")"
      ],
      "metadata": {
        "id": "-9sBTLW_5oXu"
      },
      "execution_count": null,
      "outputs": []
    },
    {
      "cell_type": "markdown",
      "source": [
        "### Train to predict all regions:"
      ],
      "metadata": {
        "id": "0jPZCEtlTk9a"
      }
    },
    {
      "cell_type": "code",
      "source": [
        "def train_model(training_df, testing_df, y_col, image_arrays, batch_size, num_epochs, num_steps):\n",
        "  # OG:\n",
        "  # model = models.Sequential()\n",
        "  # model.add(layers.Conv2D(32, (3, 3), activation='relu', input_shape=(375, 375, 3)))\n",
        "  # model.add(layers.MaxPooling2D((2, 2)))\n",
        "  # model.add(layers.Conv2D(64, (3, 3), activation='relu'))\n",
        "  # model.add(layers.MaxPooling2D((2, 2)))\n",
        "  # model.add(layers.Conv2D(64, (3, 3), activation='relu'))\n",
        "  # model.add(layers.Flatten())\n",
        "  # model.add(layers.Dense(64, activation='relu'))\n",
        "  # # Add a single output layer for all brain regions\n",
        "  # model.add(layers.Dense(len(y_col), activation='linear', name='output_layer'))\n",
        "\n",
        "  # Best so far:\n",
        "  model = models.Sequential()\n",
        "  model.add(layers.Conv2D(32, (3, 3), activation='relu', input_shape=(375, 375, 3), padding='same'))\n",
        "  model.add(layers.MaxPooling2D((2, 2)))\n",
        "  model.add(layers.Conv2D(64, (3, 3), activation='relu', padding='same'))\n",
        "  model.add(layers.MaxPooling2D((2, 2)))\n",
        "  model.add(layers.Conv2D(128, (3, 3), activation='relu'))\n",
        "  model.add(layers.MaxPooling2D((2, 2)))\n",
        "  model.add(layers.Conv2D(256, (3, 3), activation='relu'))\n",
        "  model.add(layers.MaxPooling2D((2, 2)))\n",
        "  model.add(layers.Conv2D(512, (3, 3), activation='relu'))\n",
        "  model.add(layers.Flatten())\n",
        "  model.add(layers.Dense(64, activation='relu'))\n",
        "  # Add a single output layer for all brain regions\n",
        "  model.add(layers.Dense(len(y_col), activation='linear', name='output_layer'))\n",
        "\n",
        "  # # Test:\n",
        "  # model = models.Sequential()\n",
        "  # model.add(layers.Conv2D(16, (3, 3), activation='relu', input_shape=(375, 375, 3)))\n",
        "  # model.add(layers.MaxPooling2D((2, 2)))\n",
        "  # model.add(layers.Conv2D(32, (3, 3), activation='relu'))\n",
        "  # model.add(layers.MaxPooling2D((2, 2)))\n",
        "  # model.add(layers.Conv2D(64, (3, 3), activation='relu'))\n",
        "  # model.add(layers.MaxPooling2D((2, 2)))\n",
        "  # model.add(layers.Conv2D(128, (3, 3), activation='relu'))\n",
        "  # model.add(layers.Flatten())\n",
        "  # model.add(layers.Dense(64, activation='relu'))\n",
        "  # # Add a single output layer for all brain regions\n",
        "  # model.add(layers.Dense(len(y_col), activation='linear', name='output_layer'))\n",
        "\n",
        "  # Compile the model\n",
        "  model.compile(optimizer='adagrad',\n",
        "                loss='mean_squared_error',\n",
        "                metrics=['mae',\n",
        "                        'mean_absolute_percentage_error'])\n",
        "\n",
        "  # Train the model using the image generator\n",
        "  model.fit_generator(\n",
        "      image_generator(training_df, image_arrays, batch_size),\n",
        "      steps_per_epoch=num_steps,\n",
        "      epochs=num_epochs\n",
        "  )\n",
        "\n",
        "  # Evaluate model:\n",
        "  evaluation = model.evaluate_generator(\n",
        "      image_generator(testing_df,\n",
        "                      image_arrays,\n",
        "                      batch_size),\n",
        "      steps=num_steps\n",
        "  )\n",
        "\n",
        "  return model, evaluation"
      ],
      "metadata": {
        "id": "s8Ec0gnfTX4L"
      },
      "execution_count": null,
      "outputs": []
    },
    {
      "cell_type": "code",
      "source": [
        "def prediction_generator(df, image_dict, batch_size):\n",
        "    image_datagen = ImageDataGenerator(rescale=1./255)\n",
        "    num_iter = 0\n",
        "    y = df[y_col].to_numpy()\n",
        "    while True:\n",
        "        # Generate batch_size random indices\n",
        "        # indices = np.random.choice(len(df), size=batch_size, replace=False)\n",
        "        indices = np.arange(num_iter * batch_size, num_iter * batch_size + batch_size)\n",
        "\n",
        "        # Get corresponding image titles and activations\n",
        "        batch_image_titles = df['image_id'].iloc[indices]\n",
        "        batch_activations = y[indices]\n",
        "\n",
        "        # Check if all image titles are present in the image_dict\n",
        "        if not all(title in image_dict for title in batch_image_titles):\n",
        "            print(\"Skipping batch due to missing image in dictionary.\")\n",
        "            continue\n",
        "\n",
        "        # Load images based on the batch_image_titles\n",
        "        batch_images = [image_dict[title] for title in batch_image_titles]\n",
        "\n",
        "        # Convert the list of images to numpy array\n",
        "        batch_images = np.array(batch_images)\n",
        "\n",
        "        # Apply data augmentation\n",
        "        batch_images = image_datagen.flow(batch_images, shuffle=False).next()\n",
        "\n",
        "        # num_iter += 1\n",
        "        num_iter = (num_iter + 1) % 100\n",
        "\n",
        "        yield batch_images, {'output_layer': batch_activations}\n",
        "\n",
        "def get_predictions(model, testing_df, image_arrays, batch_size, num_steps):\n",
        "  '''\n",
        "  '''\n",
        "  # Define parameters for prediction:\n",
        "  shuffled_testing_df = testing_df.sample(frac=1).reset_index(drop=True)\n",
        "  generator = prediction_generator(shuffled_testing_df, image_arrays, batch_size)\n",
        "\n",
        "  predictions = model.predict_generator(generator, steps=num_steps)\n",
        "  # Get image labels associated with predictions:\n",
        "  image_labels = np.array(shuffled_testing_df['image_id'].iloc[:(batch_size * num_steps)])\n",
        "  predictions = pd.DataFrame(predictions)\n",
        "  predictions.columns = y_col\n",
        "  predictions['image_id'] = image_labels\n",
        "\n",
        "  true_values = shuffled_testing_df[y_col + ['image_id']].iloc[:(batch_size * num_steps)]\n",
        "\n",
        "  return predictions, true_values"
      ],
      "metadata": {
        "id": "C9KF_--j5NSl"
      },
      "execution_count": null,
      "outputs": []
    },
    {
      "cell_type": "code",
      "source": [
        "df = df[df.columns.drop('Unnamed: 0')]\n",
        "df.head()"
      ],
      "metadata": {
        "colab": {
          "base_uri": "https://localhost:8080/",
          "height": 206
        },
        "id": "bCm3Nr3pA67I",
        "outputId": "ed2047ce-720c-412a-ed81-dfba48094571"
      },
      "execution_count": null,
      "outputs": [
        {
          "output_type": "execute_result",
          "data": {
            "text/plain": [
              "                          image_id  LHEarlyVis     LHLOC     LHOPA     LHPPA  \\\n",
              "0             n01930112_19568.JPEG    0.354363  0.596451  0.483172  0.377583   \n",
              "1             n03733281_29214.JPEG    0.436733  0.504045  0.496731  0.380299   \n",
              "2              n07695742_5848.JPEG    0.351240  0.394579  0.504595  0.368279   \n",
              "3  COCO_train2014_000000420713.jpg    0.301845  0.367703  0.436215  0.331886   \n",
              "4  COCO_train2014_000000488558.jpg    0.366239  0.501444  0.539929  0.423813   \n",
              "\n",
              "      LHRSC  RHEarlyVis     RHLOC     RHOPA     RHPPA     RHRSC  trial  \\\n",
              "0  0.549397    0.376575  0.515765  0.451580  0.371800  0.470340      1   \n",
              "1  0.584706    0.357960  0.340223  0.434418  0.429163  0.574347      1   \n",
              "2  0.452379    0.367690  0.353765  0.444238  0.491205  0.491502      1   \n",
              "3  0.487795    0.414520  0.308202  0.369207  0.353664  0.390626      1   \n",
              "4  0.645803    0.412786  0.413269  0.453801  0.459980  0.567552      1   \n",
              "\n",
              "   participant  \n",
              "0            1  \n",
              "1            1  \n",
              "2            1  \n",
              "3            1  \n",
              "4            1  "
            ],
            "text/html": [
              "\n",
              "  <div id=\"df-4b6d6fb7-4c8c-4505-82ee-68116ebfe663\" class=\"colab-df-container\">\n",
              "    <div>\n",
              "<style scoped>\n",
              "    .dataframe tbody tr th:only-of-type {\n",
              "        vertical-align: middle;\n",
              "    }\n",
              "\n",
              "    .dataframe tbody tr th {\n",
              "        vertical-align: top;\n",
              "    }\n",
              "\n",
              "    .dataframe thead th {\n",
              "        text-align: right;\n",
              "    }\n",
              "</style>\n",
              "<table border=\"1\" class=\"dataframe\">\n",
              "  <thead>\n",
              "    <tr style=\"text-align: right;\">\n",
              "      <th></th>\n",
              "      <th>image_id</th>\n",
              "      <th>LHEarlyVis</th>\n",
              "      <th>LHLOC</th>\n",
              "      <th>LHOPA</th>\n",
              "      <th>LHPPA</th>\n",
              "      <th>LHRSC</th>\n",
              "      <th>RHEarlyVis</th>\n",
              "      <th>RHLOC</th>\n",
              "      <th>RHOPA</th>\n",
              "      <th>RHPPA</th>\n",
              "      <th>RHRSC</th>\n",
              "      <th>trial</th>\n",
              "      <th>participant</th>\n",
              "    </tr>\n",
              "  </thead>\n",
              "  <tbody>\n",
              "    <tr>\n",
              "      <th>0</th>\n",
              "      <td>n01930112_19568.JPEG</td>\n",
              "      <td>0.354363</td>\n",
              "      <td>0.596451</td>\n",
              "      <td>0.483172</td>\n",
              "      <td>0.377583</td>\n",
              "      <td>0.549397</td>\n",
              "      <td>0.376575</td>\n",
              "      <td>0.515765</td>\n",
              "      <td>0.451580</td>\n",
              "      <td>0.371800</td>\n",
              "      <td>0.470340</td>\n",
              "      <td>1</td>\n",
              "      <td>1</td>\n",
              "    </tr>\n",
              "    <tr>\n",
              "      <th>1</th>\n",
              "      <td>n03733281_29214.JPEG</td>\n",
              "      <td>0.436733</td>\n",
              "      <td>0.504045</td>\n",
              "      <td>0.496731</td>\n",
              "      <td>0.380299</td>\n",
              "      <td>0.584706</td>\n",
              "      <td>0.357960</td>\n",
              "      <td>0.340223</td>\n",
              "      <td>0.434418</td>\n",
              "      <td>0.429163</td>\n",
              "      <td>0.574347</td>\n",
              "      <td>1</td>\n",
              "      <td>1</td>\n",
              "    </tr>\n",
              "    <tr>\n",
              "      <th>2</th>\n",
              "      <td>n07695742_5848.JPEG</td>\n",
              "      <td>0.351240</td>\n",
              "      <td>0.394579</td>\n",
              "      <td>0.504595</td>\n",
              "      <td>0.368279</td>\n",
              "      <td>0.452379</td>\n",
              "      <td>0.367690</td>\n",
              "      <td>0.353765</td>\n",
              "      <td>0.444238</td>\n",
              "      <td>0.491205</td>\n",
              "      <td>0.491502</td>\n",
              "      <td>1</td>\n",
              "      <td>1</td>\n",
              "    </tr>\n",
              "    <tr>\n",
              "      <th>3</th>\n",
              "      <td>COCO_train2014_000000420713.jpg</td>\n",
              "      <td>0.301845</td>\n",
              "      <td>0.367703</td>\n",
              "      <td>0.436215</td>\n",
              "      <td>0.331886</td>\n",
              "      <td>0.487795</td>\n",
              "      <td>0.414520</td>\n",
              "      <td>0.308202</td>\n",
              "      <td>0.369207</td>\n",
              "      <td>0.353664</td>\n",
              "      <td>0.390626</td>\n",
              "      <td>1</td>\n",
              "      <td>1</td>\n",
              "    </tr>\n",
              "    <tr>\n",
              "      <th>4</th>\n",
              "      <td>COCO_train2014_000000488558.jpg</td>\n",
              "      <td>0.366239</td>\n",
              "      <td>0.501444</td>\n",
              "      <td>0.539929</td>\n",
              "      <td>0.423813</td>\n",
              "      <td>0.645803</td>\n",
              "      <td>0.412786</td>\n",
              "      <td>0.413269</td>\n",
              "      <td>0.453801</td>\n",
              "      <td>0.459980</td>\n",
              "      <td>0.567552</td>\n",
              "      <td>1</td>\n",
              "      <td>1</td>\n",
              "    </tr>\n",
              "  </tbody>\n",
              "</table>\n",
              "</div>\n",
              "    <div class=\"colab-df-buttons\">\n",
              "\n",
              "  <div class=\"colab-df-container\">\n",
              "    <button class=\"colab-df-convert\" onclick=\"convertToInteractive('df-4b6d6fb7-4c8c-4505-82ee-68116ebfe663')\"\n",
              "            title=\"Convert this dataframe to an interactive table.\"\n",
              "            style=\"display:none;\">\n",
              "\n",
              "  <svg xmlns=\"http://www.w3.org/2000/svg\" height=\"24px\" viewBox=\"0 -960 960 960\">\n",
              "    <path d=\"M120-120v-720h720v720H120Zm60-500h600v-160H180v160Zm220 220h160v-160H400v160Zm0 220h160v-160H400v160ZM180-400h160v-160H180v160Zm440 0h160v-160H620v160ZM180-180h160v-160H180v160Zm440 0h160v-160H620v160Z\"/>\n",
              "  </svg>\n",
              "    </button>\n",
              "\n",
              "  <style>\n",
              "    .colab-df-container {\n",
              "      display:flex;\n",
              "      gap: 12px;\n",
              "    }\n",
              "\n",
              "    .colab-df-convert {\n",
              "      background-color: #E8F0FE;\n",
              "      border: none;\n",
              "      border-radius: 50%;\n",
              "      cursor: pointer;\n",
              "      display: none;\n",
              "      fill: #1967D2;\n",
              "      height: 32px;\n",
              "      padding: 0 0 0 0;\n",
              "      width: 32px;\n",
              "    }\n",
              "\n",
              "    .colab-df-convert:hover {\n",
              "      background-color: #E2EBFA;\n",
              "      box-shadow: 0px 1px 2px rgba(60, 64, 67, 0.3), 0px 1px 3px 1px rgba(60, 64, 67, 0.15);\n",
              "      fill: #174EA6;\n",
              "    }\n",
              "\n",
              "    .colab-df-buttons div {\n",
              "      margin-bottom: 4px;\n",
              "    }\n",
              "\n",
              "    [theme=dark] .colab-df-convert {\n",
              "      background-color: #3B4455;\n",
              "      fill: #D2E3FC;\n",
              "    }\n",
              "\n",
              "    [theme=dark] .colab-df-convert:hover {\n",
              "      background-color: #434B5C;\n",
              "      box-shadow: 0px 1px 3px 1px rgba(0, 0, 0, 0.15);\n",
              "      filter: drop-shadow(0px 1px 2px rgba(0, 0, 0, 0.3));\n",
              "      fill: #FFFFFF;\n",
              "    }\n",
              "  </style>\n",
              "\n",
              "    <script>\n",
              "      const buttonEl =\n",
              "        document.querySelector('#df-4b6d6fb7-4c8c-4505-82ee-68116ebfe663 button.colab-df-convert');\n",
              "      buttonEl.style.display =\n",
              "        google.colab.kernel.accessAllowed ? 'block' : 'none';\n",
              "\n",
              "      async function convertToInteractive(key) {\n",
              "        const element = document.querySelector('#df-4b6d6fb7-4c8c-4505-82ee-68116ebfe663');\n",
              "        const dataTable =\n",
              "          await google.colab.kernel.invokeFunction('convertToInteractive',\n",
              "                                                    [key], {});\n",
              "        if (!dataTable) return;\n",
              "\n",
              "        const docLinkHtml = 'Like what you see? Visit the ' +\n",
              "          '<a target=\"_blank\" href=https://colab.research.google.com/notebooks/data_table.ipynb>data table notebook</a>'\n",
              "          + ' to learn more about interactive tables.';\n",
              "        element.innerHTML = '';\n",
              "        dataTable['output_type'] = 'display_data';\n",
              "        await google.colab.output.renderOutput(dataTable, element);\n",
              "        const docLink = document.createElement('div');\n",
              "        docLink.innerHTML = docLinkHtml;\n",
              "        element.appendChild(docLink);\n",
              "      }\n",
              "    </script>\n",
              "  </div>\n",
              "\n",
              "\n",
              "<div id=\"df-0dc5ec11-7318-4c30-8c1e-c79e49e3b166\">\n",
              "  <button class=\"colab-df-quickchart\" onclick=\"quickchart('df-0dc5ec11-7318-4c30-8c1e-c79e49e3b166')\"\n",
              "            title=\"Suggest charts\"\n",
              "            style=\"display:none;\">\n",
              "\n",
              "<svg xmlns=\"http://www.w3.org/2000/svg\" height=\"24px\"viewBox=\"0 0 24 24\"\n",
              "     width=\"24px\">\n",
              "    <g>\n",
              "        <path d=\"M19 3H5c-1.1 0-2 .9-2 2v14c0 1.1.9 2 2 2h14c1.1 0 2-.9 2-2V5c0-1.1-.9-2-2-2zM9 17H7v-7h2v7zm4 0h-2V7h2v10zm4 0h-2v-4h2v4z\"/>\n",
              "    </g>\n",
              "</svg>\n",
              "  </button>\n",
              "\n",
              "<style>\n",
              "  .colab-df-quickchart {\n",
              "      --bg-color: #E8F0FE;\n",
              "      --fill-color: #1967D2;\n",
              "      --hover-bg-color: #E2EBFA;\n",
              "      --hover-fill-color: #174EA6;\n",
              "      --disabled-fill-color: #AAA;\n",
              "      --disabled-bg-color: #DDD;\n",
              "  }\n",
              "\n",
              "  [theme=dark] .colab-df-quickchart {\n",
              "      --bg-color: #3B4455;\n",
              "      --fill-color: #D2E3FC;\n",
              "      --hover-bg-color: #434B5C;\n",
              "      --hover-fill-color: #FFFFFF;\n",
              "      --disabled-bg-color: #3B4455;\n",
              "      --disabled-fill-color: #666;\n",
              "  }\n",
              "\n",
              "  .colab-df-quickchart {\n",
              "    background-color: var(--bg-color);\n",
              "    border: none;\n",
              "    border-radius: 50%;\n",
              "    cursor: pointer;\n",
              "    display: none;\n",
              "    fill: var(--fill-color);\n",
              "    height: 32px;\n",
              "    padding: 0;\n",
              "    width: 32px;\n",
              "  }\n",
              "\n",
              "  .colab-df-quickchart:hover {\n",
              "    background-color: var(--hover-bg-color);\n",
              "    box-shadow: 0 1px 2px rgba(60, 64, 67, 0.3), 0 1px 3px 1px rgba(60, 64, 67, 0.15);\n",
              "    fill: var(--button-hover-fill-color);\n",
              "  }\n",
              "\n",
              "  .colab-df-quickchart-complete:disabled,\n",
              "  .colab-df-quickchart-complete:disabled:hover {\n",
              "    background-color: var(--disabled-bg-color);\n",
              "    fill: var(--disabled-fill-color);\n",
              "    box-shadow: none;\n",
              "  }\n",
              "\n",
              "  .colab-df-spinner {\n",
              "    border: 2px solid var(--fill-color);\n",
              "    border-color: transparent;\n",
              "    border-bottom-color: var(--fill-color);\n",
              "    animation:\n",
              "      spin 1s steps(1) infinite;\n",
              "  }\n",
              "\n",
              "  @keyframes spin {\n",
              "    0% {\n",
              "      border-color: transparent;\n",
              "      border-bottom-color: var(--fill-color);\n",
              "      border-left-color: var(--fill-color);\n",
              "    }\n",
              "    20% {\n",
              "      border-color: transparent;\n",
              "      border-left-color: var(--fill-color);\n",
              "      border-top-color: var(--fill-color);\n",
              "    }\n",
              "    30% {\n",
              "      border-color: transparent;\n",
              "      border-left-color: var(--fill-color);\n",
              "      border-top-color: var(--fill-color);\n",
              "      border-right-color: var(--fill-color);\n",
              "    }\n",
              "    40% {\n",
              "      border-color: transparent;\n",
              "      border-right-color: var(--fill-color);\n",
              "      border-top-color: var(--fill-color);\n",
              "    }\n",
              "    60% {\n",
              "      border-color: transparent;\n",
              "      border-right-color: var(--fill-color);\n",
              "    }\n",
              "    80% {\n",
              "      border-color: transparent;\n",
              "      border-right-color: var(--fill-color);\n",
              "      border-bottom-color: var(--fill-color);\n",
              "    }\n",
              "    90% {\n",
              "      border-color: transparent;\n",
              "      border-bottom-color: var(--fill-color);\n",
              "    }\n",
              "  }\n",
              "</style>\n",
              "\n",
              "  <script>\n",
              "    async function quickchart(key) {\n",
              "      const quickchartButtonEl =\n",
              "        document.querySelector('#' + key + ' button');\n",
              "      quickchartButtonEl.disabled = true;  // To prevent multiple clicks.\n",
              "      quickchartButtonEl.classList.add('colab-df-spinner');\n",
              "      try {\n",
              "        const charts = await google.colab.kernel.invokeFunction(\n",
              "            'suggestCharts', [key], {});\n",
              "      } catch (error) {\n",
              "        console.error('Error during call to suggestCharts:', error);\n",
              "      }\n",
              "      quickchartButtonEl.classList.remove('colab-df-spinner');\n",
              "      quickchartButtonEl.classList.add('colab-df-quickchart-complete');\n",
              "    }\n",
              "    (() => {\n",
              "      let quickchartButtonEl =\n",
              "        document.querySelector('#df-0dc5ec11-7318-4c30-8c1e-c79e49e3b166 button');\n",
              "      quickchartButtonEl.style.display =\n",
              "        google.colab.kernel.accessAllowed ? 'block' : 'none';\n",
              "    })();\n",
              "  </script>\n",
              "</div>\n",
              "\n",
              "    </div>\n",
              "  </div>\n"
            ]
          },
          "metadata": {},
          "execution_count": 30
        }
      ]
    },
    {
      "cell_type": "code",
      "source": [
        "k_folds = 5\n",
        "kf = KFold(n_splits=k_folds)\n",
        "batch_size = 10\n",
        "\n",
        "#X = df['image_id'].to_numpy()\n",
        "y_col = ['LHEarlyVis', 'LHLOC', 'LHOPA', 'LHPPA', 'LHRSC', 'RHEarlyVis',\n",
        "            'RHLOC', 'RHOPA', 'RHPPA', 'RHRSC']\n",
        "#y = df[y_col].to_numpy()\n",
        "\n",
        "X = pd.DataFrame(df['image_id'])\n",
        "y = pd.DataFrame(df[y_col])\n",
        "\n",
        "image_datagen = ImageDataGenerator(rescale=1./255)\n",
        "\n",
        "acc_score = []\n",
        "\n",
        "for train_index, val_index in kf.split(X):\n",
        "    #print(train_index, val_index)\n",
        "    X_train, X_val = X[X.index.isin(train_index)], X[X.index.isin(val_index)]\n",
        "    y_train, y_val = y[y.index.isin(train_index)], y[y.index.isin(val_index)]\n",
        "    print(X_val)\n",
        "\n",
        "    # Generate batch_size random indices\n",
        "    indices = np.random.choice(len(X_val), size=batch_size, replace=False)\n",
        "\n",
        "    # Get corresponding image titles and activations\n",
        "    batch_image_titles = X_val['image_id'].iloc[indices]\n",
        "    batch_activations = y_val.iloc[indices]"
      ],
      "metadata": {
        "colab": {
          "base_uri": "https://localhost:8080/"
        },
        "id": "Hky0SBAHE1rX",
        "outputId": "10c93b76-07cc-4776-c1d2-e638c80bb2e2"
      },
      "execution_count": null,
      "outputs": [
        {
          "output_type": "stream",
          "name": "stdout",
          "text": [
            "                              image_id\n",
            "0                 n01930112_19568.JPEG\n",
            "1                 n03733281_29214.JPEG\n",
            "2                  n07695742_5848.JPEG\n",
            "3      COCO_train2014_000000420713.jpg\n",
            "4      COCO_train2014_000000488558.jpg\n",
            "...                                ...\n",
            "21178  COCO_train2014_000000363084.jpg\n",
            "21179  COCO_train2014_000000404007.jpg\n",
            "21180  COCO_train2014_000000195027.jpg\n",
            "21181  COCO_train2014_000000347133.jpg\n",
            "21182                    driveway6.jpg\n",
            "\n",
            "[19823 rows x 1 columns]\n",
            "                              image_id\n",
            "21183              n01698640_3315.JPEG\n",
            "21184              n02110958_4869.JPEG\n",
            "21186                      highway.jpg\n",
            "21187             sculpturegarden1.jpg\n",
            "21188  COCO_train2014_000000412200.jpg\n",
            "...                                ...\n",
            "42361                        pond3.jpg\n",
            "42362  COCO_train2014_000000219735.jpg\n",
            "42363              n04509417_4411.JPEG\n",
            "42364  COCO_train2014_000000391615.jpg\n",
            "42365              n02096294_4267.JPEG\n",
            "\n",
            "[19821 rows x 1 columns]\n",
            "                              image_id\n",
            "42366              n03272010_3139.JPEG\n",
            "42367             n04251144_13296.JPEG\n",
            "42368             n02727426_11476.JPEG\n",
            "42369              n02129604_8786.JPEG\n",
            "42370  COCO_train2014_000000166678.jpg\n",
            "...                                ...\n",
            "63543             n04493381_10004.JPEG\n",
            "63544             n01930112_14289.JPEG\n",
            "63545  COCO_train2014_000000445323.jpg\n",
            "63546                 garbagedump1.jpg\n",
            "63547             n03457902_14354.JPEG\n",
            "\n",
            "[19817 rows x 1 columns]\n",
            "                              image_id\n",
            "63548             n03000247_55479.JPEG\n",
            "63549  COCO_train2014_000000002270.jpg\n",
            "63550  COCO_train2014_000000404270.jpg\n",
            "63551              n04525305_5174.JPEG\n",
            "63552  COCO_train2014_000000282987.jpg\n",
            "...                                ...\n",
            "84725             n02107142_20241.JPEG\n",
            "84726                    sushibar8.jpg\n",
            "84727  COCO_train2014_000000268418.jpg\n",
            "84728             n03888605_25017.JPEG\n",
            "84729              n03793489_4253.JPEG\n",
            "\n",
            "[19817 rows x 1 columns]\n",
            "                               image_id\n",
            "84730   COCO_train2014_000000007932.jpg\n",
            "84731   COCO_train2014_000000444346.jpg\n",
            "84732                    cornfield3.jpg\n",
            "84734                     pavilion2.jpg\n",
            "84735   COCO_train2014_000000332692.jpg\n",
            "...                                 ...\n",
            "105905  COCO_train2014_000000547367.jpg\n",
            "105907  COCO_train2014_000000237831.jpg\n",
            "105908              n02788148_1592.JPEG\n",
            "105910                churchInside1.jpg\n",
            "105911  COCO_train2014_000000461561.jpg\n",
            "\n",
            "[19811 rows x 1 columns]\n"
          ]
        }
      ]
    },
    {
      "cell_type": "code",
      "source": [
        "k_folds = 5\n",
        "kf = KFold(n_splits=k_folds)\n",
        "\n",
        "#X = df['image_id'].to_numpy()\n",
        "y_col = ['LHEarlyVis', 'LHLOC', 'LHOPA', 'LHPPA', 'LHRSC', 'RHEarlyVis',\n",
        "            'RHLOC', 'RHOPA', 'RHPPA', 'RHRSC']\n",
        "#y = df[y_col].to_numpy()\n",
        "#X = pd.DataFrame(df['image_id'])\n",
        "#y = pd.DataFrame(df[y_col])\n",
        "\n",
        "mae_cols_score = []\n",
        "mae_score = []\n",
        "\n",
        "for train_index, val_index in kf.split(X):\n",
        "    #X_train, X_val = X[X.index.isin(train_index)], X[X.index.isin(val_index)]\n",
        "    #y_train, y_val = y[y.index.isin(train_index)], y[y.index.isin(val_index)]\n",
        "    training_df, testing_df = df[df.index.isin(train_index)], df[df.index.isin(val_index)]\n",
        "\n",
        "    image_datagen = ImageDataGenerator(rescale=1./255)\n",
        "\n",
        "    # Train new model:\n",
        "    batch_size = 10\n",
        "    num_steps = len(X_train) // batch_size\n",
        "    num_epochs = 3\n",
        "\n",
        "    model, evaluation = train_model(training_df,\n",
        "                                    testing_df,\n",
        "                                    y_col,\n",
        "                                    image_arrays,\n",
        "                                    batch_size,\n",
        "                                    num_epochs,\n",
        "                                    num_steps)\n",
        "    print('Loss:', evaluation[0])\n",
        "    print('MAE:', evaluation[1])\n",
        "    print('Mean Absolute Percentage Error:', evaluation[2])\n",
        "\n",
        "    num_steps = 20\n",
        "\n",
        "    predictions, true_values = get_predictions(model,\n",
        "                                           testing_df,\n",
        "                                           image_arrays,\n",
        "                                           batch_size,\n",
        "                                           num_steps)\n",
        "\n",
        "    for col in y_col:\n",
        "        print(f'MAE for {col}:')\n",
        "        y_true = true_values[col]\n",
        "        y_pred = predictions[col]\n",
        "        mae_col = mean_absolute_error(y_true, y_pred)\n",
        "        mae_cols_score.append([col, mae_col])\n",
        "        print(mae_col)\n",
        "\n",
        "    mae_score.append(mean_absolute_error(predictions[predictions.columns.drop('image_id')], true_values[true_values.columns.drop('image_id')]))\n",
        "\n",
        "avg_mae_score = sum(mae_score)/k_folds\n",
        "print(avg_mae_score)"
      ],
      "metadata": {
        "colab": {
          "base_uri": "https://localhost:8080/"
        },
        "id": "1QpxxhG0lltk",
        "outputId": "c561c1d8-bb2b-4986-bef8-dd0217416b05"
      },
      "execution_count": null,
      "outputs": [
        {
          "output_type": "stream",
          "name": "stdout",
          "text": [
            "Epoch 1/3\n"
          ]
        },
        {
          "output_type": "stream",
          "name": "stderr",
          "text": [
            "<ipython-input-28-c454ee2a6831>:51: UserWarning: `Model.fit_generator` is deprecated and will be removed in a future version. Please use `Model.fit`, which supports generators.\n",
            "  model.fit_generator(\n"
          ]
        },
        {
          "output_type": "stream",
          "name": "stdout",
          "text": [
            "7927/7927 [==============================] - 420s 53ms/step - loss: 0.0093 - mae: 0.0755 - mean_absolute_percentage_error: 17.1879\n",
            "Epoch 2/3\n",
            "7927/7927 [==============================] - 427s 54ms/step - loss: 0.0076 - mae: 0.0691 - mean_absolute_percentage_error: 1194.7006\n",
            "Epoch 3/3\n",
            "7927/7927 [==============================] - 425s 54ms/step - loss: 0.0075 - mae: 0.0686 - mean_absolute_percentage_error: 2289.5840\n"
          ]
        },
        {
          "output_type": "stream",
          "name": "stderr",
          "text": [
            "<ipython-input-28-c454ee2a6831>:58: UserWarning: `Model.evaluate_generator` is deprecated and will be removed in a future version. Please use `Model.evaluate`, which supports generators.\n",
            "  evaluation = model.evaluate_generator(\n"
          ]
        },
        {
          "output_type": "stream",
          "name": "stdout",
          "text": [
            "Loss: 0.005746144335716963\n",
            "MAE: 0.06072453409433365\n",
            "Mean Absolute Percentage Error: 13.57883358001709\n"
          ]
        },
        {
          "output_type": "stream",
          "name": "stderr",
          "text": [
            "<ipython-input-29-46c9f8d63e0a>:40: UserWarning: `Model.predict_generator` is deprecated and will be removed in a future version. Please use `Model.predict`, which supports generators.\n",
            "  predictions = model.predict_generator(generator, steps=num_steps)\n"
          ]
        },
        {
          "output_type": "stream",
          "name": "stdout",
          "text": [
            "MAE for LHEarlyVis:\n",
            "0.06369324224371846\n",
            "MAE for LHLOC:\n",
            "0.059192540426129564\n",
            "MAE for LHOPA:\n",
            "0.051576964394372746\n",
            "MAE for LHPPA:\n",
            "0.05465051468068971\n",
            "MAE for LHRSC:\n",
            "0.052263713666375985\n",
            "MAE for RHEarlyVis:\n",
            "0.067800455688787\n",
            "MAE for RHLOC:\n",
            "0.07012693179079064\n",
            "MAE for RHOPA:\n",
            "0.03974233020284443\n",
            "MAE for RHPPA:\n",
            "0.06776866622662377\n",
            "MAE for RHRSC:\n",
            "0.07275211422198603\n",
            "Epoch 1/3\n"
          ]
        },
        {
          "output_type": "stream",
          "name": "stderr",
          "text": [
            "<ipython-input-28-c454ee2a6831>:51: UserWarning: `Model.fit_generator` is deprecated and will be removed in a future version. Please use `Model.fit`, which supports generators.\n",
            "  model.fit_generator(\n"
          ]
        },
        {
          "output_type": "stream",
          "name": "stdout",
          "text": [
            "7927/7927 [==============================] - 426s 54ms/step - loss: 0.0091 - mae: 0.0746 - mean_absolute_percentage_error: 4136.9717\n",
            "Epoch 2/3\n",
            "7927/7927 [==============================] - 425s 54ms/step - loss: 0.0076 - mae: 0.0692 - mean_absolute_percentage_error: 4531.2803\n",
            "Epoch 3/3\n",
            "7927/7927 [==============================] - 425s 54ms/step - loss: 0.0075 - mae: 0.0686 - mean_absolute_percentage_error: 1074.9337\n"
          ]
        },
        {
          "output_type": "stream",
          "name": "stderr",
          "text": [
            "<ipython-input-28-c454ee2a6831>:58: UserWarning: `Model.evaluate_generator` is deprecated and will be removed in a future version. Please use `Model.evaluate`, which supports generators.\n",
            "  evaluation = model.evaluate_generator(\n"
          ]
        },
        {
          "output_type": "stream",
          "name": "stdout",
          "text": [
            "Loss: 0.005747325252741575\n",
            "MAE: 0.06066640466451645\n",
            "Mean Absolute Percentage Error: 13.584091186523438\n"
          ]
        },
        {
          "output_type": "stream",
          "name": "stderr",
          "text": [
            "<ipython-input-29-46c9f8d63e0a>:40: UserWarning: `Model.predict_generator` is deprecated and will be removed in a future version. Please use `Model.predict`, which supports generators.\n",
            "  predictions = model.predict_generator(generator, steps=num_steps)\n"
          ]
        },
        {
          "output_type": "stream",
          "name": "stdout",
          "text": [
            "MAE for LHEarlyVis:\n",
            "0.07843343348396971\n",
            "MAE for LHLOC:\n",
            "0.07903680949220171\n",
            "MAE for LHOPA:\n",
            "0.07645409711303776\n",
            "MAE for LHPPA:\n",
            "0.07105028444712705\n",
            "MAE for LHRSC:\n",
            "0.07415595996579029\n",
            "MAE for RHEarlyVis:\n",
            "0.0752098013501332\n",
            "MAE for RHLOC:\n",
            "0.07257309907951273\n",
            "MAE for RHOPA:\n",
            "0.05863428275303582\n",
            "MAE for RHPPA:\n",
            "0.07849075373711197\n",
            "MAE for RHRSC:\n",
            "0.0630237626465018\n",
            "Epoch 1/3\n"
          ]
        },
        {
          "output_type": "stream",
          "name": "stderr",
          "text": [
            "<ipython-input-28-c454ee2a6831>:51: UserWarning: `Model.fit_generator` is deprecated and will be removed in a future version. Please use `Model.fit`, which supports generators.\n",
            "  model.fit_generator(\n"
          ]
        },
        {
          "output_type": "stream",
          "name": "stdout",
          "text": [
            "7927/7927 [==============================] - 424s 53ms/step - loss: 0.0090 - mae: 0.0748 - mean_absolute_percentage_error: 1201.6709\n",
            "Epoch 2/3\n",
            "7927/7927 [==============================] - 422s 53ms/step - loss: 0.0077 - mae: 0.0694 - mean_absolute_percentage_error: 6297.9219\n",
            "Epoch 3/3\n",
            "7927/7927 [==============================] - 423s 53ms/step - loss: 0.0075 - mae: 0.0687 - mean_absolute_percentage_error: 1647.4735\n"
          ]
        },
        {
          "output_type": "stream",
          "name": "stderr",
          "text": [
            "<ipython-input-28-c454ee2a6831>:58: UserWarning: `Model.evaluate_generator` is deprecated and will be removed in a future version. Please use `Model.evaluate`, which supports generators.\n",
            "  evaluation = model.evaluate_generator(\n"
          ]
        },
        {
          "output_type": "stream",
          "name": "stdout",
          "text": [
            "Loss: 0.006063627544790506\n",
            "MAE: 0.06217150017619133\n",
            "Mean Absolute Percentage Error: 13.439871788024902\n"
          ]
        },
        {
          "output_type": "stream",
          "name": "stderr",
          "text": [
            "<ipython-input-29-46c9f8d63e0a>:40: UserWarning: `Model.predict_generator` is deprecated and will be removed in a future version. Please use `Model.predict`, which supports generators.\n",
            "  predictions = model.predict_generator(generator, steps=num_steps)\n"
          ]
        },
        {
          "output_type": "stream",
          "name": "stdout",
          "text": [
            "MAE for LHEarlyVis:\n",
            "0.08969951286040238\n",
            "MAE for LHLOC:\n",
            "0.08715393658359107\n",
            "MAE for LHOPA:\n",
            "0.07924913557852897\n",
            "MAE for LHPPA:\n",
            "0.09686003747909808\n",
            "MAE for LHRSC:\n",
            "0.07637102756600987\n",
            "MAE for RHEarlyVis:\n",
            "0.08439622553624827\n",
            "MAE for RHLOC:\n",
            "0.07241598941316925\n",
            "MAE for RHOPA:\n",
            "0.08308226654713743\n",
            "MAE for RHPPA:\n",
            "0.1036288744223122\n",
            "MAE for RHRSC:\n",
            "0.06072194913636734\n",
            "Epoch 1/3\n"
          ]
        },
        {
          "output_type": "stream",
          "name": "stderr",
          "text": [
            "<ipython-input-28-c454ee2a6831>:51: UserWarning: `Model.fit_generator` is deprecated and will be removed in a future version. Please use `Model.fit`, which supports generators.\n",
            "  model.fit_generator(\n"
          ]
        },
        {
          "output_type": "stream",
          "name": "stdout",
          "text": [
            "7927/7927 [==============================] - 425s 53ms/step - loss: 0.0089 - mae: 0.0739 - mean_absolute_percentage_error: 4225.0952\n",
            "Epoch 2/3\n",
            "7927/7927 [==============================] - 424s 54ms/step - loss: 0.0075 - mae: 0.0687 - mean_absolute_percentage_error: 2905.3555\n",
            "Epoch 3/3\n",
            "7927/7927 [==============================] - 423s 53ms/step - loss: 0.0075 - mae: 0.0684 - mean_absolute_percentage_error: 605.8936\n"
          ]
        },
        {
          "output_type": "stream",
          "name": "stderr",
          "text": [
            "<ipython-input-28-c454ee2a6831>:58: UserWarning: `Model.evaluate_generator` is deprecated and will be removed in a future version. Please use `Model.evaluate`, which supports generators.\n",
            "  evaluation = model.evaluate_generator(\n"
          ]
        },
        {
          "output_type": "stream",
          "name": "stdout",
          "text": [
            "Loss: 0.005750027485191822\n",
            "MAE: 0.06069878116250038\n",
            "Mean Absolute Percentage Error: 13.729533195495605\n"
          ]
        },
        {
          "output_type": "stream",
          "name": "stderr",
          "text": [
            "<ipython-input-29-46c9f8d63e0a>:40: UserWarning: `Model.predict_generator` is deprecated and will be removed in a future version. Please use `Model.predict`, which supports generators.\n",
            "  predictions = model.predict_generator(generator, steps=num_steps)\n"
          ]
        },
        {
          "output_type": "stream",
          "name": "stdout",
          "text": [
            "MAE for LHEarlyVis:\n",
            "0.06828131531115716\n",
            "MAE for LHLOC:\n",
            "0.052530591006516685\n",
            "MAE for LHOPA:\n",
            "0.04587896633774811\n",
            "MAE for LHPPA:\n",
            "0.06255124914230387\n",
            "MAE for LHRSC:\n",
            "0.06682529690110937\n",
            "MAE for RHEarlyVis:\n",
            "0.055781900012896235\n",
            "MAE for RHLOC:\n",
            "0.06281541533891334\n",
            "MAE for RHOPA:\n",
            "0.054671855632962535\n",
            "MAE for RHPPA:\n",
            "0.08119929665006928\n",
            "MAE for RHRSC:\n",
            "0.08657098292944196\n",
            "Epoch 1/3\n"
          ]
        },
        {
          "output_type": "stream",
          "name": "stderr",
          "text": [
            "<ipython-input-28-c454ee2a6831>:51: UserWarning: `Model.fit_generator` is deprecated and will be removed in a future version. Please use `Model.fit`, which supports generators.\n",
            "  model.fit_generator(\n"
          ]
        },
        {
          "output_type": "stream",
          "name": "stdout",
          "text": [
            "7927/7927 [==============================] - 427s 54ms/step - loss: 0.0090 - mae: 0.0745 - mean_absolute_percentage_error: 6644.6445\n",
            "Epoch 2/3\n",
            "7927/7927 [==============================] - 427s 54ms/step - loss: 0.0075 - mae: 0.0685 - mean_absolute_percentage_error: 611.6876\n",
            "Epoch 3/3\n",
            "7927/7927 [==============================] - 426s 54ms/step - loss: 0.0074 - mae: 0.0685 - mean_absolute_percentage_error: 1729.7655\n"
          ]
        },
        {
          "output_type": "stream",
          "name": "stderr",
          "text": [
            "<ipython-input-28-c454ee2a6831>:58: UserWarning: `Model.evaluate_generator` is deprecated and will be removed in a future version. Please use `Model.evaluate`, which supports generators.\n",
            "  evaluation = model.evaluate_generator(\n"
          ]
        },
        {
          "output_type": "stream",
          "name": "stdout",
          "text": [
            "Loss: 0.005974752828478813\n",
            "MAE: 0.06184818968176842\n",
            "Mean Absolute Percentage Error: 13.54625129699707\n"
          ]
        },
        {
          "output_type": "stream",
          "name": "stderr",
          "text": [
            "<ipython-input-29-46c9f8d63e0a>:40: UserWarning: `Model.predict_generator` is deprecated and will be removed in a future version. Please use `Model.predict`, which supports generators.\n",
            "  predictions = model.predict_generator(generator, steps=num_steps)\n"
          ]
        },
        {
          "output_type": "stream",
          "name": "stdout",
          "text": [
            "MAE for LHEarlyVis:\n",
            "0.06401979500788686\n",
            "MAE for LHLOC:\n",
            "0.05335259522241872\n",
            "MAE for LHOPA:\n",
            "0.04231232923205946\n",
            "MAE for LHPPA:\n",
            "0.04417999091362401\n",
            "MAE for LHRSC:\n",
            "0.057584825414579266\n",
            "MAE for RHEarlyVis:\n",
            "0.05665665679695737\n",
            "MAE for RHLOC:\n",
            "0.06146742562592218\n",
            "MAE for RHOPA:\n",
            "0.044499626720956656\n",
            "MAE for RHPPA:\n",
            "0.07345198369616991\n",
            "MAE for RHRSC:\n",
            "0.07756145873233762\n",
            "0.0674480453871927\n"
          ]
        }
      ]
    },
    {
      "cell_type": "code",
      "source": [
        "mean_absolute_error(predictions[predictions.columns.drop('image_id')], true_values[true_values.columns.drop('image_id')])"
      ],
      "metadata": {
        "colab": {
          "base_uri": "https://localhost:8080/"
        },
        "id": "2cawa4SogBgR",
        "outputId": "a78d4cef-8e04-4c23-f65e-943cad2083db"
      },
      "execution_count": null,
      "outputs": [
        {
          "output_type": "execute_result",
          "data": {
            "text/plain": [
              "0.057276212748536406"
            ]
          },
          "metadata": {},
          "execution_count": 47
        }
      ]
    },
    {
      "cell_type": "code",
      "source": [
        "sum(mae_score)/len(mae_score)"
      ],
      "metadata": {
        "colab": {
          "base_uri": "https://localhost:8080/"
        },
        "id": "X-OrFHWq9NTD",
        "outputId": "4307469c-f43b-45be-ec53-1df691c492de"
      },
      "execution_count": null,
      "outputs": [
        {
          "output_type": "execute_result",
          "data": {
            "text/plain": [
              "0.0674480453871927"
            ]
          },
          "metadata": {},
          "execution_count": 68
        }
      ]
    },
    {
      "cell_type": "code",
      "source": [
        "LHEarlyVis = []\n",
        "LHLOC = []\n",
        "LHOPA = []\n",
        "LHPPA = []\n",
        "LHRSC = []\n",
        "RHEarlyVis = []\n",
        "RHLOC = []\n",
        "RHOPA = []\n",
        "RHPPA = []\n",
        "RHRSC = []\n",
        "\n",
        "for i in range(len(mae_cols_score)):\n",
        "    if i % 10 == 0:\n",
        "        LHEarlyVis.append(mae_cols_score[i][1])\n",
        "    elif i % 10 == 1:\n",
        "        LHLOC.append(mae_cols_score[i][1])\n",
        "    elif i % 10 == 2:\n",
        "        LHOPA.append(mae_cols_score[i][1])\n",
        "    elif i % 10 == 3:\n",
        "        LHPPA.append(mae_cols_score[i][1])\n",
        "    elif i % 10 == 4:\n",
        "        LHRSC.append(mae_cols_score[i][1])\n",
        "    elif i % 10 == 5:\n",
        "        RHEarlyVis.append(mae_cols_score[i][1])\n",
        "    elif i % 10 == 6:\n",
        "        RHLOC.append(mae_cols_score[i][1])\n",
        "    elif i % 10 == 7:\n",
        "        RHOPA.append(mae_cols_score[i][1])\n",
        "    elif i % 10 == 8:\n",
        "        RHPPA.append(mae_cols_score[i][1])\n",
        "    else:\n",
        "        RHRSC.append(mae_cols_score[i][1])"
      ],
      "metadata": {
        "id": "XchfYrUC9wlq"
      },
      "execution_count": null,
      "outputs": []
    },
    {
      "cell_type": "code",
      "source": [
        "for maes in [LHEarlyVis, LHLOC, LHOPA, LHPPA, LHRSC, RHEarlyVis, RHLOC, RHOPA, RHPPA, RHRSC]:\n",
        "    avg_mae_col = sum(maes)/len(maes)\n",
        "    print(f\"Average of {maes}: \", round(avg_mae_col,3))"
      ],
      "metadata": {
        "id": "B3P7NHXQCT5P",
        "outputId": "8bacac76-db1a-4c38-d102-abc484ebb01c",
        "colab": {
          "base_uri": "https://localhost:8080/"
        }
      },
      "execution_count": null,
      "outputs": [
        {
          "output_type": "stream",
          "name": "stdout",
          "text": [
            "Average of [0.06369324224371846, 0.07843343348396971, 0.08969951286040238, 0.06828131531115716, 0.06401979500788686]:  0.073\n",
            "Average of [0.059192540426129564, 0.07903680949220171, 0.08715393658359107, 0.052530591006516685, 0.05335259522241872]:  0.066\n",
            "Average of [0.051576964394372746, 0.07645409711303776, 0.07924913557852897, 0.04587896633774811, 0.04231232923205946]:  0.059\n",
            "Average of [0.05465051468068971, 0.07105028444712705, 0.09686003747909808, 0.06255124914230387, 0.04417999091362401]:  0.066\n",
            "Average of [0.052263713666375985, 0.07415595996579029, 0.07637102756600987, 0.06682529690110937, 0.057584825414579266]:  0.065\n",
            "Average of [0.067800455688787, 0.0752098013501332, 0.08439622553624827, 0.055781900012896235, 0.05665665679695737]:  0.068\n",
            "Average of [0.07012693179079064, 0.07257309907951273, 0.07241598941316925, 0.06281541533891334, 0.06146742562592218]:  0.068\n",
            "Average of [0.03974233020284443, 0.05863428275303582, 0.08308226654713743, 0.054671855632962535, 0.044499626720956656]:  0.056\n",
            "Average of [0.06776866622662377, 0.07849075373711197, 0.1036288744223122, 0.08119929665006928, 0.07345198369616991]:  0.081\n",
            "Average of [0.07275211422198603, 0.0630237626465018, 0.06072194913636734, 0.08657098292944196, 0.07756145873233762]:  0.072\n"
          ]
        }
      ]
    },
    {
      "cell_type": "code",
      "source": [
        "mae_cols_score"
      ],
      "metadata": {
        "colab": {
          "base_uri": "https://localhost:8080/"
        },
        "id": "DtTrgAJ-9bbI",
        "outputId": "eaac704c-6e97-4677-f8af-cefd9f996265"
      },
      "execution_count": null,
      "outputs": [
        {
          "output_type": "execute_result",
          "data": {
            "text/plain": [
              "[['LHEarlyVis', 0.06369324224371846],\n",
              " ['LHLOC', 0.059192540426129564],\n",
              " ['LHOPA', 0.051576964394372746],\n",
              " ['LHPPA', 0.05465051468068971],\n",
              " ['LHRSC', 0.052263713666375985],\n",
              " ['RHEarlyVis', 0.067800455688787],\n",
              " ['RHLOC', 0.07012693179079064],\n",
              " ['RHOPA', 0.03974233020284443],\n",
              " ['RHPPA', 0.06776866622662377],\n",
              " ['RHRSC', 0.07275211422198603],\n",
              " ['LHEarlyVis', 0.07843343348396971],\n",
              " ['LHLOC', 0.07903680949220171],\n",
              " ['LHOPA', 0.07645409711303776],\n",
              " ['LHPPA', 0.07105028444712705],\n",
              " ['LHRSC', 0.07415595996579029],\n",
              " ['RHEarlyVis', 0.0752098013501332],\n",
              " ['RHLOC', 0.07257309907951273],\n",
              " ['RHOPA', 0.05863428275303582],\n",
              " ['RHPPA', 0.07849075373711197],\n",
              " ['RHRSC', 0.0630237626465018],\n",
              " ['LHEarlyVis', 0.08969951286040238],\n",
              " ['LHLOC', 0.08715393658359107],\n",
              " ['LHOPA', 0.07924913557852897],\n",
              " ['LHPPA', 0.09686003747909808],\n",
              " ['LHRSC', 0.07637102756600987],\n",
              " ['RHEarlyVis', 0.08439622553624827],\n",
              " ['RHLOC', 0.07241598941316925],\n",
              " ['RHOPA', 0.08308226654713743],\n",
              " ['RHPPA', 0.1036288744223122],\n",
              " ['RHRSC', 0.06072194913636734],\n",
              " ['LHEarlyVis', 0.06828131531115716],\n",
              " ['LHLOC', 0.052530591006516685],\n",
              " ['LHOPA', 0.04587896633774811],\n",
              " ['LHPPA', 0.06255124914230387],\n",
              " ['LHRSC', 0.06682529690110937],\n",
              " ['RHEarlyVis', 0.055781900012896235],\n",
              " ['RHLOC', 0.06281541533891334],\n",
              " ['RHOPA', 0.054671855632962535],\n",
              " ['RHPPA', 0.08119929665006928],\n",
              " ['RHRSC', 0.08657098292944196],\n",
              " ['LHEarlyVis', 0.06401979500788686],\n",
              " ['LHLOC', 0.05335259522241872],\n",
              " ['LHOPA', 0.04231232923205946],\n",
              " ['LHPPA', 0.04417999091362401],\n",
              " ['LHRSC', 0.057584825414579266],\n",
              " ['RHEarlyVis', 0.05665665679695737],\n",
              " ['RHLOC', 0.06146742562592218],\n",
              " ['RHOPA', 0.044499626720956656],\n",
              " ['RHPPA', 0.07345198369616991],\n",
              " ['RHRSC', 0.07756145873233762]]"
            ]
          },
          "metadata": {},
          "execution_count": 53
        }
      ]
    },
    {
      "cell_type": "code",
      "source": [
        "# Load model:\n",
        "# path = '/content/drive/My Drive/Autumn 2023/BUSN 41916 Project/Models/10_8472_2_cnn.keras'\n",
        "# model = models.load_model(path)\n",
        "\n",
        "batch_size = 10\n",
        "num_steps = 20\n",
        "\n",
        "predictions, true_values = get_predictions(model,\n",
        "                                           testing_df,\n",
        "                                           image_arrays,\n",
        "                                           batch_size,\n",
        "                                           num_steps)"
      ],
      "metadata": {
        "colab": {
          "base_uri": "https://localhost:8080/"
        },
        "id": "hsR2Txd6G24r",
        "outputId": "a9cd37b7-25bf-49ff-95a2-1fe0872979c3"
      },
      "execution_count": null,
      "outputs": [
        {
          "output_type": "stream",
          "name": "stderr",
          "text": [
            "<ipython-input-30-46c9f8d63e0a>:40: UserWarning: `Model.predict_generator` is deprecated and will be removed in a future version. Please use `Model.predict`, which supports generators.\n",
            "  predictions = model.predict_generator(generator, steps=num_steps)\n"
          ]
        }
      ]
    },
    {
      "cell_type": "code",
      "source": [
        "predictions.head()"
      ],
      "metadata": {
        "colab": {
          "base_uri": "https://localhost:8080/",
          "height": 206
        },
        "id": "snlemGBlJvsX",
        "outputId": "e03da359-fec5-4036-9ee3-e964e2b4efc8"
      },
      "execution_count": null,
      "outputs": [
        {
          "output_type": "execute_result",
          "data": {
            "text/plain": [
              "   LHEarlyVis     LHLOC     LHOPA     LHPPA     LHRSC  RHEarlyVis     RHLOC  \\\n",
              "0    0.427330  0.505001  0.524936  0.426412  0.521520    0.445977  0.435590   \n",
              "1    0.436857  0.505759  0.530116  0.438486  0.530707    0.459892  0.431225   \n",
              "2    0.414751  0.489914  0.509013  0.410024  0.503939    0.436890  0.421939   \n",
              "3    0.431773  0.500296  0.525067  0.433897  0.521726    0.449688  0.430980   \n",
              "4    0.419962  0.507471  0.527737  0.422263  0.524364    0.441531  0.431916   \n",
              "\n",
              "      RHOPA     RHPPA     RHRSC                         image_id  \n",
              "0  0.457305  0.464008  0.470628              n01980166_1563.JPEG  \n",
              "1  0.464230  0.466663  0.482986  COCO_train2014_000000468771.jpg  \n",
              "2  0.444152  0.444964  0.443688             n07753592_10770.JPEG  \n",
              "3  0.449379  0.469540  0.468321  COCO_train2014_000000509269.jpg  \n",
              "4  0.458983  0.455853  0.463756  COCO_train2014_000000356810.jpg  "
            ],
            "text/html": [
              "\n",
              "  <div id=\"df-e6c56331-52f9-43e4-8ddc-b7d5b87a2d92\" class=\"colab-df-container\">\n",
              "    <div>\n",
              "<style scoped>\n",
              "    .dataframe tbody tr th:only-of-type {\n",
              "        vertical-align: middle;\n",
              "    }\n",
              "\n",
              "    .dataframe tbody tr th {\n",
              "        vertical-align: top;\n",
              "    }\n",
              "\n",
              "    .dataframe thead th {\n",
              "        text-align: right;\n",
              "    }\n",
              "</style>\n",
              "<table border=\"1\" class=\"dataframe\">\n",
              "  <thead>\n",
              "    <tr style=\"text-align: right;\">\n",
              "      <th></th>\n",
              "      <th>LHEarlyVis</th>\n",
              "      <th>LHLOC</th>\n",
              "      <th>LHOPA</th>\n",
              "      <th>LHPPA</th>\n",
              "      <th>LHRSC</th>\n",
              "      <th>RHEarlyVis</th>\n",
              "      <th>RHLOC</th>\n",
              "      <th>RHOPA</th>\n",
              "      <th>RHPPA</th>\n",
              "      <th>RHRSC</th>\n",
              "      <th>image_id</th>\n",
              "    </tr>\n",
              "  </thead>\n",
              "  <tbody>\n",
              "    <tr>\n",
              "      <th>0</th>\n",
              "      <td>0.427330</td>\n",
              "      <td>0.505001</td>\n",
              "      <td>0.524936</td>\n",
              "      <td>0.426412</td>\n",
              "      <td>0.521520</td>\n",
              "      <td>0.445977</td>\n",
              "      <td>0.435590</td>\n",
              "      <td>0.457305</td>\n",
              "      <td>0.464008</td>\n",
              "      <td>0.470628</td>\n",
              "      <td>n01980166_1563.JPEG</td>\n",
              "    </tr>\n",
              "    <tr>\n",
              "      <th>1</th>\n",
              "      <td>0.436857</td>\n",
              "      <td>0.505759</td>\n",
              "      <td>0.530116</td>\n",
              "      <td>0.438486</td>\n",
              "      <td>0.530707</td>\n",
              "      <td>0.459892</td>\n",
              "      <td>0.431225</td>\n",
              "      <td>0.464230</td>\n",
              "      <td>0.466663</td>\n",
              "      <td>0.482986</td>\n",
              "      <td>COCO_train2014_000000468771.jpg</td>\n",
              "    </tr>\n",
              "    <tr>\n",
              "      <th>2</th>\n",
              "      <td>0.414751</td>\n",
              "      <td>0.489914</td>\n",
              "      <td>0.509013</td>\n",
              "      <td>0.410024</td>\n",
              "      <td>0.503939</td>\n",
              "      <td>0.436890</td>\n",
              "      <td>0.421939</td>\n",
              "      <td>0.444152</td>\n",
              "      <td>0.444964</td>\n",
              "      <td>0.443688</td>\n",
              "      <td>n07753592_10770.JPEG</td>\n",
              "    </tr>\n",
              "    <tr>\n",
              "      <th>3</th>\n",
              "      <td>0.431773</td>\n",
              "      <td>0.500296</td>\n",
              "      <td>0.525067</td>\n",
              "      <td>0.433897</td>\n",
              "      <td>0.521726</td>\n",
              "      <td>0.449688</td>\n",
              "      <td>0.430980</td>\n",
              "      <td>0.449379</td>\n",
              "      <td>0.469540</td>\n",
              "      <td>0.468321</td>\n",
              "      <td>COCO_train2014_000000509269.jpg</td>\n",
              "    </tr>\n",
              "    <tr>\n",
              "      <th>4</th>\n",
              "      <td>0.419962</td>\n",
              "      <td>0.507471</td>\n",
              "      <td>0.527737</td>\n",
              "      <td>0.422263</td>\n",
              "      <td>0.524364</td>\n",
              "      <td>0.441531</td>\n",
              "      <td>0.431916</td>\n",
              "      <td>0.458983</td>\n",
              "      <td>0.455853</td>\n",
              "      <td>0.463756</td>\n",
              "      <td>COCO_train2014_000000356810.jpg</td>\n",
              "    </tr>\n",
              "  </tbody>\n",
              "</table>\n",
              "</div>\n",
              "    <div class=\"colab-df-buttons\">\n",
              "\n",
              "  <div class=\"colab-df-container\">\n",
              "    <button class=\"colab-df-convert\" onclick=\"convertToInteractive('df-e6c56331-52f9-43e4-8ddc-b7d5b87a2d92')\"\n",
              "            title=\"Convert this dataframe to an interactive table.\"\n",
              "            style=\"display:none;\">\n",
              "\n",
              "  <svg xmlns=\"http://www.w3.org/2000/svg\" height=\"24px\" viewBox=\"0 -960 960 960\">\n",
              "    <path d=\"M120-120v-720h720v720H120Zm60-500h600v-160H180v160Zm220 220h160v-160H400v160Zm0 220h160v-160H400v160ZM180-400h160v-160H180v160Zm440 0h160v-160H620v160ZM180-180h160v-160H180v160Zm440 0h160v-160H620v160Z\"/>\n",
              "  </svg>\n",
              "    </button>\n",
              "\n",
              "  <style>\n",
              "    .colab-df-container {\n",
              "      display:flex;\n",
              "      gap: 12px;\n",
              "    }\n",
              "\n",
              "    .colab-df-convert {\n",
              "      background-color: #E8F0FE;\n",
              "      border: none;\n",
              "      border-radius: 50%;\n",
              "      cursor: pointer;\n",
              "      display: none;\n",
              "      fill: #1967D2;\n",
              "      height: 32px;\n",
              "      padding: 0 0 0 0;\n",
              "      width: 32px;\n",
              "    }\n",
              "\n",
              "    .colab-df-convert:hover {\n",
              "      background-color: #E2EBFA;\n",
              "      box-shadow: 0px 1px 2px rgba(60, 64, 67, 0.3), 0px 1px 3px 1px rgba(60, 64, 67, 0.15);\n",
              "      fill: #174EA6;\n",
              "    }\n",
              "\n",
              "    .colab-df-buttons div {\n",
              "      margin-bottom: 4px;\n",
              "    }\n",
              "\n",
              "    [theme=dark] .colab-df-convert {\n",
              "      background-color: #3B4455;\n",
              "      fill: #D2E3FC;\n",
              "    }\n",
              "\n",
              "    [theme=dark] .colab-df-convert:hover {\n",
              "      background-color: #434B5C;\n",
              "      box-shadow: 0px 1px 3px 1px rgba(0, 0, 0, 0.15);\n",
              "      filter: drop-shadow(0px 1px 2px rgba(0, 0, 0, 0.3));\n",
              "      fill: #FFFFFF;\n",
              "    }\n",
              "  </style>\n",
              "\n",
              "    <script>\n",
              "      const buttonEl =\n",
              "        document.querySelector('#df-e6c56331-52f9-43e4-8ddc-b7d5b87a2d92 button.colab-df-convert');\n",
              "      buttonEl.style.display =\n",
              "        google.colab.kernel.accessAllowed ? 'block' : 'none';\n",
              "\n",
              "      async function convertToInteractive(key) {\n",
              "        const element = document.querySelector('#df-e6c56331-52f9-43e4-8ddc-b7d5b87a2d92');\n",
              "        const dataTable =\n",
              "          await google.colab.kernel.invokeFunction('convertToInteractive',\n",
              "                                                    [key], {});\n",
              "        if (!dataTable) return;\n",
              "\n",
              "        const docLinkHtml = 'Like what you see? Visit the ' +\n",
              "          '<a target=\"_blank\" href=https://colab.research.google.com/notebooks/data_table.ipynb>data table notebook</a>'\n",
              "          + ' to learn more about interactive tables.';\n",
              "        element.innerHTML = '';\n",
              "        dataTable['output_type'] = 'display_data';\n",
              "        await google.colab.output.renderOutput(dataTable, element);\n",
              "        const docLink = document.createElement('div');\n",
              "        docLink.innerHTML = docLinkHtml;\n",
              "        element.appendChild(docLink);\n",
              "      }\n",
              "    </script>\n",
              "  </div>\n",
              "\n",
              "\n",
              "<div id=\"df-4cc3f62d-70e0-4fa9-b1da-f5728ababad6\">\n",
              "  <button class=\"colab-df-quickchart\" onclick=\"quickchart('df-4cc3f62d-70e0-4fa9-b1da-f5728ababad6')\"\n",
              "            title=\"Suggest charts\"\n",
              "            style=\"display:none;\">\n",
              "\n",
              "<svg xmlns=\"http://www.w3.org/2000/svg\" height=\"24px\"viewBox=\"0 0 24 24\"\n",
              "     width=\"24px\">\n",
              "    <g>\n",
              "        <path d=\"M19 3H5c-1.1 0-2 .9-2 2v14c0 1.1.9 2 2 2h14c1.1 0 2-.9 2-2V5c0-1.1-.9-2-2-2zM9 17H7v-7h2v7zm4 0h-2V7h2v10zm4 0h-2v-4h2v4z\"/>\n",
              "    </g>\n",
              "</svg>\n",
              "  </button>\n",
              "\n",
              "<style>\n",
              "  .colab-df-quickchart {\n",
              "      --bg-color: #E8F0FE;\n",
              "      --fill-color: #1967D2;\n",
              "      --hover-bg-color: #E2EBFA;\n",
              "      --hover-fill-color: #174EA6;\n",
              "      --disabled-fill-color: #AAA;\n",
              "      --disabled-bg-color: #DDD;\n",
              "  }\n",
              "\n",
              "  [theme=dark] .colab-df-quickchart {\n",
              "      --bg-color: #3B4455;\n",
              "      --fill-color: #D2E3FC;\n",
              "      --hover-bg-color: #434B5C;\n",
              "      --hover-fill-color: #FFFFFF;\n",
              "      --disabled-bg-color: #3B4455;\n",
              "      --disabled-fill-color: #666;\n",
              "  }\n",
              "\n",
              "  .colab-df-quickchart {\n",
              "    background-color: var(--bg-color);\n",
              "    border: none;\n",
              "    border-radius: 50%;\n",
              "    cursor: pointer;\n",
              "    display: none;\n",
              "    fill: var(--fill-color);\n",
              "    height: 32px;\n",
              "    padding: 0;\n",
              "    width: 32px;\n",
              "  }\n",
              "\n",
              "  .colab-df-quickchart:hover {\n",
              "    background-color: var(--hover-bg-color);\n",
              "    box-shadow: 0 1px 2px rgba(60, 64, 67, 0.3), 0 1px 3px 1px rgba(60, 64, 67, 0.15);\n",
              "    fill: var(--button-hover-fill-color);\n",
              "  }\n",
              "\n",
              "  .colab-df-quickchart-complete:disabled,\n",
              "  .colab-df-quickchart-complete:disabled:hover {\n",
              "    background-color: var(--disabled-bg-color);\n",
              "    fill: var(--disabled-fill-color);\n",
              "    box-shadow: none;\n",
              "  }\n",
              "\n",
              "  .colab-df-spinner {\n",
              "    border: 2px solid var(--fill-color);\n",
              "    border-color: transparent;\n",
              "    border-bottom-color: var(--fill-color);\n",
              "    animation:\n",
              "      spin 1s steps(1) infinite;\n",
              "  }\n",
              "\n",
              "  @keyframes spin {\n",
              "    0% {\n",
              "      border-color: transparent;\n",
              "      border-bottom-color: var(--fill-color);\n",
              "      border-left-color: var(--fill-color);\n",
              "    }\n",
              "    20% {\n",
              "      border-color: transparent;\n",
              "      border-left-color: var(--fill-color);\n",
              "      border-top-color: var(--fill-color);\n",
              "    }\n",
              "    30% {\n",
              "      border-color: transparent;\n",
              "      border-left-color: var(--fill-color);\n",
              "      border-top-color: var(--fill-color);\n",
              "      border-right-color: var(--fill-color);\n",
              "    }\n",
              "    40% {\n",
              "      border-color: transparent;\n",
              "      border-right-color: var(--fill-color);\n",
              "      border-top-color: var(--fill-color);\n",
              "    }\n",
              "    60% {\n",
              "      border-color: transparent;\n",
              "      border-right-color: var(--fill-color);\n",
              "    }\n",
              "    80% {\n",
              "      border-color: transparent;\n",
              "      border-right-color: var(--fill-color);\n",
              "      border-bottom-color: var(--fill-color);\n",
              "    }\n",
              "    90% {\n",
              "      border-color: transparent;\n",
              "      border-bottom-color: var(--fill-color);\n",
              "    }\n",
              "  }\n",
              "</style>\n",
              "\n",
              "  <script>\n",
              "    async function quickchart(key) {\n",
              "      const quickchartButtonEl =\n",
              "        document.querySelector('#' + key + ' button');\n",
              "      quickchartButtonEl.disabled = true;  // To prevent multiple clicks.\n",
              "      quickchartButtonEl.classList.add('colab-df-spinner');\n",
              "      try {\n",
              "        const charts = await google.colab.kernel.invokeFunction(\n",
              "            'suggestCharts', [key], {});\n",
              "      } catch (error) {\n",
              "        console.error('Error during call to suggestCharts:', error);\n",
              "      }\n",
              "      quickchartButtonEl.classList.remove('colab-df-spinner');\n",
              "      quickchartButtonEl.classList.add('colab-df-quickchart-complete');\n",
              "    }\n",
              "    (() => {\n",
              "      let quickchartButtonEl =\n",
              "        document.querySelector('#df-4cc3f62d-70e0-4fa9-b1da-f5728ababad6 button');\n",
              "      quickchartButtonEl.style.display =\n",
              "        google.colab.kernel.accessAllowed ? 'block' : 'none';\n",
              "    })();\n",
              "  </script>\n",
              "</div>\n",
              "\n",
              "    </div>\n",
              "  </div>\n"
            ]
          },
          "metadata": {},
          "execution_count": 33
        }
      ]
    },
    {
      "cell_type": "code",
      "source": [
        "predictions['LHEarlyVis'].value_counts()"
      ],
      "metadata": {
        "colab": {
          "base_uri": "https://localhost:8080/"
        },
        "id": "dMgQWzuXZ56i",
        "outputId": "aecdeb36-c9fc-491e-ac90-c9ba4c042cf1"
      },
      "execution_count": null,
      "outputs": [
        {
          "output_type": "execute_result",
          "data": {
            "text/plain": [
              "0.459202    2\n",
              "0.427576    2\n",
              "0.438087    1\n",
              "0.426202    1\n",
              "0.410849    1\n",
              "           ..\n",
              "0.441421    1\n",
              "0.443768    1\n",
              "0.446810    1\n",
              "0.433830    1\n",
              "0.441853    1\n",
              "Name: LHEarlyVis, Length: 198, dtype: int64"
            ]
          },
          "metadata": {},
          "execution_count": 34
        }
      ]
    },
    {
      "cell_type": "markdown",
      "source": [
        "Compare predictions to true values:"
      ],
      "metadata": {
        "id": "_3TJKTEk-NYl"
      }
    },
    {
      "cell_type": "code",
      "source": [
        "for col in y_col:\n",
        "  print(f'MAE for {col}:')\n",
        "  y_true = true_values[col]\n",
        "  y_pred = predictions[col]\n",
        "  print(mean_absolute_error(y_true, y_pred))"
      ],
      "metadata": {
        "colab": {
          "base_uri": "https://localhost:8080/"
        },
        "id": "RO5LmaBk-h4I",
        "outputId": "d9a70800-5773-4af7-99d7-bc7c2a76435b"
      },
      "execution_count": null,
      "outputs": [
        {
          "output_type": "stream",
          "name": "stdout",
          "text": [
            "MAE for LHEarlyVis:\n",
            "0.06937356121689922\n",
            "MAE for LHLOC:\n",
            "0.06472685821006109\n",
            "MAE for LHOPA:\n",
            "0.057051206546331876\n",
            "MAE for LHPPA:\n",
            "0.057971442891369164\n",
            "MAE for LHRSC:\n",
            "0.06160405963162953\n",
            "MAE for RHEarlyVis:\n",
            "0.0662811959012723\n",
            "MAE for RHLOC:\n",
            "0.06441355195412665\n",
            "MAE for RHOPA:\n",
            "0.05520855596839651\n",
            "MAE for RHPPA:\n",
            "0.07325104937876158\n",
            "MAE for RHRSC:\n",
            "0.06922673168760837\n"
          ]
        }
      ]
    },
    {
      "cell_type": "markdown",
      "source": [
        "Plot predictions against true values:"
      ],
      "metadata": {
        "id": "KsDUTV6ndOJq"
      }
    },
    {
      "cell_type": "code",
      "source": [
        "for col in y_col:\n",
        "  print(f'R-squared for {col}:')\n",
        "  y_true = true_values[col]\n",
        "  y_pred = predictions[col]\n",
        "  print(r2_score(y_true, y_pred))"
      ],
      "metadata": {
        "id": "JX4jJqjakYz7",
        "colab": {
          "base_uri": "https://localhost:8080/"
        },
        "outputId": "6b1735cc-6202-4074-c064-18a544a2822f"
      },
      "execution_count": null,
      "outputs": [
        {
          "output_type": "stream",
          "name": "stdout",
          "text": [
            "R-squared for LHEarlyVis:\n",
            "-0.07745461566642531\n",
            "R-squared for LHLOC:\n",
            "-0.11123966880929981\n",
            "R-squared for LHOPA:\n",
            "-0.18985613494377707\n",
            "R-squared for LHPPA:\n",
            "-0.05927408384199628\n",
            "R-squared for LHRSC:\n",
            "-0.005525244471908275\n",
            "R-squared for RHEarlyVis:\n",
            "-0.10454361563965575\n",
            "R-squared for RHLOC:\n",
            "-0.06440816632101609\n",
            "R-squared for RHOPA:\n",
            "-0.08944823716537886\n",
            "R-squared for RHPPA:\n",
            "-0.10390542955165794\n",
            "R-squared for RHRSC:\n",
            "-0.0092709028705531\n"
          ]
        }
      ]
    },
    {
      "cell_type": "code",
      "source": [
        "fig, axs = plt.subplots(nrows=5, ncols=2, figsize=(15, 18))\n",
        "x = 0\n",
        "for i in range(5):\n",
        "  for j in range(2):\n",
        "    axs[i][j].scatter(predictions[y_col[x]], true_values[y_col[x]])\n",
        "    axs[i][j].set_title(f'{y_col[x]}')\n",
        "    axs[i][j].set_ylabel('Actual Activation Levels')\n",
        "    axs[i][j].set_xlabel('Predicted Activation Levels')\n",
        "    # axs[i][j].set_xlim(left=0, right=1)\n",
        "    axs[i][j].set_ylim(bottom=0, top=1)\n",
        "    axs[i][j].plot(np.unique(true_values[y_col[x]]), np.poly1d(np.polyfit(true_values[y_col[x]], predictions[y_col[x]], 1))(np.unique(true_values[y_col[x]])))\n",
        "    #plt.text(0.6, 0.5, 'R-squared = %0.2f' % r2_score(true_values[y_col[x]], predictions[y_col[x]]))\n",
        "    x += 1\n",
        "\n",
        "plt.subplots_adjust(top=0.9, bottom=0.1, hspace=0.5)"
      ],
      "metadata": {
        "colab": {
          "base_uri": "https://localhost:8080/",
          "height": 1000
        },
        "id": "3wywgz1UcaKs",
        "outputId": "a7f4dc48-26e5-4d0e-e0bd-d9310125bc8a"
      },
      "execution_count": null,
      "outputs": [
        {
          "output_type": "display_data",
          "data": {
            "text/plain": [
              "<Figure size 1500x1800 with 10 Axes>"
            ],
            "image/png": "[encoded data removed]"
          },
          "metadata": {}
        }
      ]
    },
    {
      "cell_type": "code",
      "source": [
        "gc.collect()"
      ],
      "metadata": {
        "colab": {
          "base_uri": "https://localhost:8080/"
        },
        "id": "aPsGX23NCxmn",
        "outputId": "77088657-d369-452c-c3ae-5bead2166c5f"
      },
      "execution_count": null,
      "outputs": [
        {
          "output_type": "execute_result",
          "data": {
            "text/plain": [
              "65"
            ]
          },
          "metadata": {},
          "execution_count": 37
        }
      ]
    },
    {
      "cell_type": "markdown",
      "source": [
        "# Data exploration"
      ],
      "metadata": {
        "id": "6qxWmVbja5R0"
      }
    },
    {
      "cell_type": "code",
      "source": [
        "df.shape"
      ],
      "metadata": {
        "id": "PDDIPADDa24s",
        "colab": {
          "base_uri": "https://localhost:8080/"
        },
        "outputId": "b143bdf9-3d2e-41a5-8302-f40e29b87643"
      },
      "execution_count": null,
      "outputs": [
        {
          "output_type": "execute_result",
          "data": {
            "text/plain": [
              "(105912, 14)"
            ]
          },
          "metadata": {},
          "execution_count": 38
        }
      ]
    },
    {
      "cell_type": "code",
      "source": [
        "filtered = df[df['participant'] == 3]\n",
        "filtered['trial'].value_counts()"
      ],
      "metadata": {
        "id": "sAjK6TE6a3vw",
        "colab": {
          "base_uri": "https://localhost:8080/"
        },
        "outputId": "f3f26a95-805d-4a98-fe2c-f9fb69c74ec4"
      },
      "execution_count": null,
      "outputs": [
        {
          "output_type": "execute_result",
          "data": {
            "text/plain": [
              "1     4916\n",
              "2     4916\n",
              "3     4916\n",
              "34    4916\n",
              "4     4916\n",
              "5     4916\n",
              "Name: trial, dtype: int64"
            ]
          },
          "metadata": {},
          "execution_count": 39
        }
      ]
    }
  ],
  "metadata": {
    "colab": {
      "provenance": [],
      "collapsed_sections": [
        "iaPmtlqKvCc-"
      ],
      "gpuType": "T4",
      "machine_shape": "hm"
    },
    "kernelspec": {
      "display_name": "Python 3",
      "name": "python3"
    },
    "language_info": {
      "name": "python"
    },
    "accelerator": "GPU"
  },
  "nbformat": 4,
  "nbformat_minor": 0
}